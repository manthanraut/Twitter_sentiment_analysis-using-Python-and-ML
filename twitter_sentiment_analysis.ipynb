{
 "cells": [
  {
   "cell_type": "markdown",
   "id": "discrete-criminal",
   "metadata": {},
   "source": [
    "# Importing all the necessary modules and libraries"
   ]
  },
  {
   "cell_type": "code",
   "execution_count": 107,
   "id": "hired-programming",
   "metadata": {},
   "outputs": [],
   "source": [
    "import pandas as pd                                              #data manipulation and analysis package \n",
    "import matplotlib.pyplot as plt                                  #data visualization package\n",
    "import seaborn as sns                                            #advanced data visualization package\n",
    "import numpy as np                                               #n dim array package\n",
    "import re                                                        #regular expression package \n",
    "import nltk                                                      #Natural langauge toolkit package\n",
    "from nltk.stem import *                                          #package for stemming\n",
    "from textblob import TextBlob                                    #processing textual data package\n",
    "from nltk.tokenize import WordPunctTokenizer                     #used for dividing text into tokens\n",
    "from bs4 import BeautifulSoup                                    #sued for web scrapping\n",
    "from sklearn.feature_extraction.text import CountVectorizer      #for text feature extraction\n",
    "from nltk.tokenize import RegexpTokenizer                        #splitting texts into tokens\n",
    "from sklearn.model_selection import train_test_split             #for splitting into train and test data\n",
    "from sklearn.naive_bayes import MultinomialNB                    #for implementing NAIVE BAYES algo\n",
    "from sklearn import metrics                                      #for finding out perfomance metrics\n",
    "from sklearn.feature_extraction.text import TfidfVectorizer      #will tokenize documents\n",
    "import time                                                      #different operations related to time\n",
    "from sklearn import svm                                          #support vector machine algorithm\n",
    "from sklearn.metrics import classification_report                #used to measure quality of predictions\n",
    "from sklearn.svm import LinearSVC                                #Linear support vector classifier\n",
    "import pickle                                                    #for saving the defined model"
   ]
  },
  {
   "cell_type": "code",
   "execution_count": 3,
   "id": "swiss-despite",
   "metadata": {},
   "outputs": [],
   "source": [
    "#reading the dataset\n",
    "file =('twitter_dataset.csv')\n",
    "df = pd.read_csv('twitter_dataset.csv', encoding = 'latin', header=None)"
   ]
  },
  {
   "cell_type": "code",
   "execution_count": 4,
   "id": "anonymous-flesh",
   "metadata": {},
   "outputs": [
    {
     "data": {
      "text/html": [
       "<div>\n",
       "<style scoped>\n",
       "    .dataframe tbody tr th:only-of-type {\n",
       "        vertical-align: middle;\n",
       "    }\n",
       "\n",
       "    .dataframe tbody tr th {\n",
       "        vertical-align: top;\n",
       "    }\n",
       "\n",
       "    .dataframe thead th {\n",
       "        text-align: right;\n",
       "    }\n",
       "</style>\n",
       "<table border=\"1\" class=\"dataframe\">\n",
       "  <thead>\n",
       "    <tr style=\"text-align: right;\">\n",
       "      <th></th>\n",
       "      <th>0</th>\n",
       "      <th>1</th>\n",
       "      <th>2</th>\n",
       "      <th>3</th>\n",
       "      <th>4</th>\n",
       "      <th>5</th>\n",
       "    </tr>\n",
       "  </thead>\n",
       "  <tbody>\n",
       "    <tr>\n",
       "      <th>0</th>\n",
       "      <td>0</td>\n",
       "      <td>1467810369</td>\n",
       "      <td>Mon Apr 06 22:19:45 PDT 2009</td>\n",
       "      <td>NO_QUERY</td>\n",
       "      <td>_TheSpecialOne_</td>\n",
       "      <td>@switchfoot http://twitpic.com/2y1zl - Awww, t...</td>\n",
       "    </tr>\n",
       "    <tr>\n",
       "      <th>1</th>\n",
       "      <td>0</td>\n",
       "      <td>1467810672</td>\n",
       "      <td>Mon Apr 06 22:19:49 PDT 2009</td>\n",
       "      <td>NO_QUERY</td>\n",
       "      <td>scotthamilton</td>\n",
       "      <td>is upset that he can't update his Facebook by ...</td>\n",
       "    </tr>\n",
       "    <tr>\n",
       "      <th>2</th>\n",
       "      <td>0</td>\n",
       "      <td>1467810917</td>\n",
       "      <td>Mon Apr 06 22:19:53 PDT 2009</td>\n",
       "      <td>NO_QUERY</td>\n",
       "      <td>mattycus</td>\n",
       "      <td>@Kenichan I dived many times for the ball. Man...</td>\n",
       "    </tr>\n",
       "    <tr>\n",
       "      <th>3</th>\n",
       "      <td>0</td>\n",
       "      <td>1467811184</td>\n",
       "      <td>Mon Apr 06 22:19:57 PDT 2009</td>\n",
       "      <td>NO_QUERY</td>\n",
       "      <td>ElleCTF</td>\n",
       "      <td>my whole body feels itchy and like its on fire</td>\n",
       "    </tr>\n",
       "    <tr>\n",
       "      <th>4</th>\n",
       "      <td>0</td>\n",
       "      <td>1467811193</td>\n",
       "      <td>Mon Apr 06 22:19:57 PDT 2009</td>\n",
       "      <td>NO_QUERY</td>\n",
       "      <td>Karoli</td>\n",
       "      <td>@nationwideclass no, it's not behaving at all....</td>\n",
       "    </tr>\n",
       "  </tbody>\n",
       "</table>\n",
       "</div>"
      ],
      "text/plain": [
       "   0           1                             2         3                4  \\\n",
       "0  0  1467810369  Mon Apr 06 22:19:45 PDT 2009  NO_QUERY  _TheSpecialOne_   \n",
       "1  0  1467810672  Mon Apr 06 22:19:49 PDT 2009  NO_QUERY    scotthamilton   \n",
       "2  0  1467810917  Mon Apr 06 22:19:53 PDT 2009  NO_QUERY         mattycus   \n",
       "3  0  1467811184  Mon Apr 06 22:19:57 PDT 2009  NO_QUERY          ElleCTF   \n",
       "4  0  1467811193  Mon Apr 06 22:19:57 PDT 2009  NO_QUERY           Karoli   \n",
       "\n",
       "                                                   5  \n",
       "0  @switchfoot http://twitpic.com/2y1zl - Awww, t...  \n",
       "1  is upset that he can't update his Facebook by ...  \n",
       "2  @Kenichan I dived many times for the ball. Man...  \n",
       "3    my whole body feels itchy and like its on fire   \n",
       "4  @nationwideclass no, it's not behaving at all....  "
      ]
     },
     "execution_count": 4,
     "metadata": {},
     "output_type": "execute_result"
    }
   ],
   "source": [
    "df.head()"
   ]
  },
  {
   "cell_type": "code",
   "execution_count": 6,
   "id": "growing-rendering",
   "metadata": {},
   "outputs": [
    {
     "data": {
      "text/html": [
       "<div>\n",
       "<style scoped>\n",
       "    .dataframe tbody tr th:only-of-type {\n",
       "        vertical-align: middle;\n",
       "    }\n",
       "\n",
       "    .dataframe tbody tr th {\n",
       "        vertical-align: top;\n",
       "    }\n",
       "\n",
       "    .dataframe thead th {\n",
       "        text-align: right;\n",
       "    }\n",
       "</style>\n",
       "<table border=\"1\" class=\"dataframe\">\n",
       "  <thead>\n",
       "    <tr style=\"text-align: right;\">\n",
       "      <th></th>\n",
       "      <th>target</th>\n",
       "      <th>id</th>\n",
       "      <th>date</th>\n",
       "      <th>query</th>\n",
       "      <th>username</th>\n",
       "      <th>content</th>\n",
       "    </tr>\n",
       "  </thead>\n",
       "  <tbody>\n",
       "    <tr>\n",
       "      <th>0</th>\n",
       "      <td>0</td>\n",
       "      <td>1467810369</td>\n",
       "      <td>Mon Apr 06 22:19:45 PDT 2009</td>\n",
       "      <td>NO_QUERY</td>\n",
       "      <td>_TheSpecialOne_</td>\n",
       "      <td>@switchfoot http://twitpic.com/2y1zl - Awww, t...</td>\n",
       "    </tr>\n",
       "    <tr>\n",
       "      <th>1</th>\n",
       "      <td>0</td>\n",
       "      <td>1467810672</td>\n",
       "      <td>Mon Apr 06 22:19:49 PDT 2009</td>\n",
       "      <td>NO_QUERY</td>\n",
       "      <td>scotthamilton</td>\n",
       "      <td>is upset that he can't update his Facebook by ...</td>\n",
       "    </tr>\n",
       "    <tr>\n",
       "      <th>2</th>\n",
       "      <td>0</td>\n",
       "      <td>1467810917</td>\n",
       "      <td>Mon Apr 06 22:19:53 PDT 2009</td>\n",
       "      <td>NO_QUERY</td>\n",
       "      <td>mattycus</td>\n",
       "      <td>@Kenichan I dived many times for the ball. Man...</td>\n",
       "    </tr>\n",
       "    <tr>\n",
       "      <th>3</th>\n",
       "      <td>0</td>\n",
       "      <td>1467811184</td>\n",
       "      <td>Mon Apr 06 22:19:57 PDT 2009</td>\n",
       "      <td>NO_QUERY</td>\n",
       "      <td>ElleCTF</td>\n",
       "      <td>my whole body feels itchy and like its on fire</td>\n",
       "    </tr>\n",
       "    <tr>\n",
       "      <th>4</th>\n",
       "      <td>0</td>\n",
       "      <td>1467811193</td>\n",
       "      <td>Mon Apr 06 22:19:57 PDT 2009</td>\n",
       "      <td>NO_QUERY</td>\n",
       "      <td>Karoli</td>\n",
       "      <td>@nationwideclass no, it's not behaving at all....</td>\n",
       "    </tr>\n",
       "    <tr>\n",
       "      <th>5</th>\n",
       "      <td>0</td>\n",
       "      <td>1467811372</td>\n",
       "      <td>Mon Apr 06 22:20:00 PDT 2009</td>\n",
       "      <td>NO_QUERY</td>\n",
       "      <td>joy_wolf</td>\n",
       "      <td>@Kwesidei not the whole crew</td>\n",
       "    </tr>\n",
       "    <tr>\n",
       "      <th>6</th>\n",
       "      <td>0</td>\n",
       "      <td>1467811592</td>\n",
       "      <td>Mon Apr 06 22:20:03 PDT 2009</td>\n",
       "      <td>NO_QUERY</td>\n",
       "      <td>mybirch</td>\n",
       "      <td>Need a hug</td>\n",
       "    </tr>\n",
       "    <tr>\n",
       "      <th>7</th>\n",
       "      <td>0</td>\n",
       "      <td>1467811594</td>\n",
       "      <td>Mon Apr 06 22:20:03 PDT 2009</td>\n",
       "      <td>NO_QUERY</td>\n",
       "      <td>coZZ</td>\n",
       "      <td>@LOLTrish hey  long time no see! Yes.. Rains a...</td>\n",
       "    </tr>\n",
       "    <tr>\n",
       "      <th>8</th>\n",
       "      <td>0</td>\n",
       "      <td>1467811795</td>\n",
       "      <td>Mon Apr 06 22:20:05 PDT 2009</td>\n",
       "      <td>NO_QUERY</td>\n",
       "      <td>2Hood4Hollywood</td>\n",
       "      <td>@Tatiana_K nope they didn't have it</td>\n",
       "    </tr>\n",
       "    <tr>\n",
       "      <th>9</th>\n",
       "      <td>0</td>\n",
       "      <td>1467812025</td>\n",
       "      <td>Mon Apr 06 22:20:09 PDT 2009</td>\n",
       "      <td>NO_QUERY</td>\n",
       "      <td>mimismo</td>\n",
       "      <td>@twittera que me muera ?</td>\n",
       "    </tr>\n",
       "  </tbody>\n",
       "</table>\n",
       "</div>"
      ],
      "text/plain": [
       "   target          id                          date     query  \\\n",
       "0       0  1467810369  Mon Apr 06 22:19:45 PDT 2009  NO_QUERY   \n",
       "1       0  1467810672  Mon Apr 06 22:19:49 PDT 2009  NO_QUERY   \n",
       "2       0  1467810917  Mon Apr 06 22:19:53 PDT 2009  NO_QUERY   \n",
       "3       0  1467811184  Mon Apr 06 22:19:57 PDT 2009  NO_QUERY   \n",
       "4       0  1467811193  Mon Apr 06 22:19:57 PDT 2009  NO_QUERY   \n",
       "5       0  1467811372  Mon Apr 06 22:20:00 PDT 2009  NO_QUERY   \n",
       "6       0  1467811592  Mon Apr 06 22:20:03 PDT 2009  NO_QUERY   \n",
       "7       0  1467811594  Mon Apr 06 22:20:03 PDT 2009  NO_QUERY   \n",
       "8       0  1467811795  Mon Apr 06 22:20:05 PDT 2009  NO_QUERY   \n",
       "9       0  1467812025  Mon Apr 06 22:20:09 PDT 2009  NO_QUERY   \n",
       "\n",
       "          username                                            content  \n",
       "0  _TheSpecialOne_  @switchfoot http://twitpic.com/2y1zl - Awww, t...  \n",
       "1    scotthamilton  is upset that he can't update his Facebook by ...  \n",
       "2         mattycus  @Kenichan I dived many times for the ball. Man...  \n",
       "3          ElleCTF    my whole body feels itchy and like its on fire   \n",
       "4           Karoli  @nationwideclass no, it's not behaving at all....  \n",
       "5         joy_wolf                      @Kwesidei not the whole crew   \n",
       "6          mybirch                                        Need a hug   \n",
       "7             coZZ  @LOLTrish hey  long time no see! Yes.. Rains a...  \n",
       "8  2Hood4Hollywood               @Tatiana_K nope they didn't have it   \n",
       "9          mimismo                          @twittera que me muera ?   "
      ]
     },
     "execution_count": 6,
     "metadata": {},
     "output_type": "execute_result"
    }
   ],
   "source": [
    "#renaming column names\n",
    "df = df.rename(columns={0: 'target', 1: 'id', 2: 'date', 3: 'query', 4: 'username', 5: 'content'})\n",
    "df.head(10)"
   ]
  },
  {
   "cell_type": "code",
   "execution_count": 8,
   "id": "prerequisite-baltimore",
   "metadata": {},
   "outputs": [
    {
     "name": "stdout",
     "output_type": "stream",
     "text": [
      " \n",
      "Total null values in this DataFrame : 0\n",
      "<class 'pandas.core.frame.DataFrame'>\n",
      "RangeIndex: 1600000 entries, 0 to 1599999\n",
      "Data columns (total 6 columns):\n",
      " #   Column    Non-Null Count    Dtype \n",
      "---  ------    --------------    ----- \n",
      " 0   target    1600000 non-null  int64 \n",
      " 1   id        1600000 non-null  int64 \n",
      " 2   date      1600000 non-null  object\n",
      " 3   query     1600000 non-null  object\n",
      " 4   username  1600000 non-null  object\n",
      " 5   content   1600000 non-null  object\n",
      "dtypes: int64(2), object(4)\n",
      "memory usage: 73.2+ MB\n"
     ]
    }
   ],
   "source": [
    "print(\" \\nTotal null values in this DataFrame :\",df.isnull().sum().sum())\n",
    "df.info()"
   ]
  },
  {
   "cell_type": "code",
   "execution_count": 9,
   "id": "greater-sherman",
   "metadata": {},
   "outputs": [
    {
     "data": {
      "text/html": [
       "<div>\n",
       "<style scoped>\n",
       "    .dataframe tbody tr th:only-of-type {\n",
       "        vertical-align: middle;\n",
       "    }\n",
       "\n",
       "    .dataframe tbody tr th {\n",
       "        vertical-align: top;\n",
       "    }\n",
       "\n",
       "    .dataframe thead th {\n",
       "        text-align: right;\n",
       "    }\n",
       "</style>\n",
       "<table border=\"1\" class=\"dataframe\">\n",
       "  <thead>\n",
       "    <tr style=\"text-align: right;\">\n",
       "      <th></th>\n",
       "      <th>target</th>\n",
       "      <th>content</th>\n",
       "    </tr>\n",
       "  </thead>\n",
       "  <tbody>\n",
       "    <tr>\n",
       "      <th>0</th>\n",
       "      <td>0</td>\n",
       "      <td>@switchfoot http://twitpic.com/2y1zl - Awww, t...</td>\n",
       "    </tr>\n",
       "    <tr>\n",
       "      <th>1</th>\n",
       "      <td>0</td>\n",
       "      <td>is upset that he can't update his Facebook by ...</td>\n",
       "    </tr>\n",
       "    <tr>\n",
       "      <th>2</th>\n",
       "      <td>0</td>\n",
       "      <td>@Kenichan I dived many times for the ball. Man...</td>\n",
       "    </tr>\n",
       "    <tr>\n",
       "      <th>3</th>\n",
       "      <td>0</td>\n",
       "      <td>my whole body feels itchy and like its on fire</td>\n",
       "    </tr>\n",
       "    <tr>\n",
       "      <th>4</th>\n",
       "      <td>0</td>\n",
       "      <td>@nationwideclass no, it's not behaving at all....</td>\n",
       "    </tr>\n",
       "  </tbody>\n",
       "</table>\n",
       "</div>"
      ],
      "text/plain": [
       "   target                                            content\n",
       "0       0  @switchfoot http://twitpic.com/2y1zl - Awww, t...\n",
       "1       0  is upset that he can't update his Facebook by ...\n",
       "2       0  @Kenichan I dived many times for the ball. Man...\n",
       "3       0    my whole body feels itchy and like its on fire \n",
       "4       0  @nationwideclass no, it's not behaving at all...."
      ]
     },
     "execution_count": 9,
     "metadata": {},
     "output_type": "execute_result"
    }
   ],
   "source": [
    "df1=df.drop(['id','date','query','username'],axis=1)\n",
    "df1.head()"
   ]
  },
  {
   "cell_type": "code",
   "execution_count": 10,
   "id": "unavailable-forwarding",
   "metadata": {},
   "outputs": [
    {
     "name": "stdout",
     "output_type": "stream",
     "text": [
      "<class 'pandas.core.frame.DataFrame'>\n",
      "RangeIndex: 1600000 entries, 0 to 1599999\n",
      "Data columns (total 2 columns):\n",
      " #   Column   Non-Null Count    Dtype \n",
      "---  ------   --------------    ----- \n",
      " 0   target   1600000 non-null  int64 \n",
      " 1   content  1600000 non-null  object\n",
      "dtypes: int64(1), object(1)\n",
      "memory usage: 24.4+ MB\n"
     ]
    }
   ],
   "source": [
    "df1.info()"
   ]
  },
  {
   "cell_type": "markdown",
   "id": "active-quebec",
   "metadata": {},
   "source": [
    "# Data cleaning for extracting actual data from mixed data"
   ]
  },
  {
   "cell_type": "code",
   "execution_count": 12,
   "id": "egyptian-expression",
   "metadata": {},
   "outputs": [
    {
     "name": "stdout",
     "output_type": "stream",
     "text": [
      "- @switchfoot http://twitpic.com/2y1zl - Awww, that's a bummer.  You shoulda got David Carr of Third Day to do it. ;D \n",
      " > awww that s a bummer you shoulda got david carr of third day to do it d\n",
      "- is upset that he can't update his Facebook by texting it... and might cry as a result  School today also. Blah! \n",
      " > is upset that he can t update his facebook by texting it and might cry as a result school today also blah\n",
      "- @Kenichan I dived many times for the ball. Managed to save 50%  The rest go out of bounds \n",
      " > i dived many times for the ball managed to save the rest go out of bounds\n",
      "- my whole body feels itchy and like its on fire  \n",
      " > my whole body feels itchy and like its on fire\n",
      "- @nationwideclass no, it's not behaving at all. i'm mad. why am i here? because I can't see you all over there.  \n",
      " > no it s not behaving at all i m mad why am i here because i can t see you all over there\n",
      "- @Kwesidei not the whole crew  \n",
      " > not the whole crew\n",
      "- Need a hug  \n",
      " > need a hug\n",
      "- @LOLTrish hey  long time no see! Yes.. Rains a bit ,only a bit  LOL , I'm fine thanks , how's you ? \n",
      " > hey long time no see yes rains a bit only a bit lol i m fine thanks how s you\n",
      "- @Tatiana_K nope they didn't have it  \n",
      " > k nope they didn t have it\n",
      "- @twittera que me muera ?  \n",
      " > que me muera\n"
     ]
    }
   ],
   "source": [
    "tok = WordPunctTokenizer()\n",
    "pat1 = r'@[A-Za-z0-9]+'\n",
    "pat2 = r'https?://[A-Za-z0-9./]+'\n",
    "combined_pat = r'|'.join((pat1, pat2))\n",
    "def tweet_cleaner(text):\n",
    "    soup = BeautifulSoup(text, 'lxml')\n",
    "    souped = soup.get_text()\n",
    "    stripped = re.sub(combined_pat, '', souped)\n",
    "    try:\n",
    "        clean = stripped.decode(\"utf-8-sig\").replace(u\"\\ufffd\", \"?\")\n",
    "    except:\n",
    "        clean = stripped\n",
    "    letters_only = re.sub(\"[^a-zA-Z]\", \" \", clean)\n",
    "    lower_case = letters_only.lower()\n",
    "    # During the letters_only process two lines above, it has created unnecessay white spaces,\n",
    "    # I will tokenize and join together to remove unneccessary white spaces\n",
    "    words = tok.tokenize(lower_case)\n",
    "    return (\" \".join(words)).strip()\n",
    "testing = df1.content[:10]\n",
    "test_result = []\n",
    "for t in testing:\n",
    "    print('-',t,\"\\n\",'>',tweet_cleaner(t))"
   ]
  },
  {
   "cell_type": "code",
   "execution_count": 13,
   "id": "colored-international",
   "metadata": {},
   "outputs": [],
   "source": [
    "clean_tweets_texts=[]"
   ]
  },
  {
   "cell_type": "code",
   "execution_count": 18,
   "id": "removable-halloween",
   "metadata": {},
   "outputs": [
    {
     "name": "stdout",
     "output_type": "stream",
     "text": [
      "Cleaning and parsing the tweets...\n",
      "\n",
      "Tweets 1210000 of 1600000 has been processed\n",
      "Tweets 1220000 of 1600000 has been processed\n",
      "Tweets 1230000 of 1600000 has been processed\n",
      "Tweets 1240000 of 1600000 has been processed\n",
      "Tweets 1250000 of 1600000 has been processed\n",
      "Tweets 1260000 of 1600000 has been processed\n",
      "Tweets 1270000 of 1600000 has been processed\n",
      "Tweets 1280000 of 1600000 has been processed\n",
      "Tweets 1290000 of 1600000 has been processed\n"
     ]
    },
    {
     "name": "stderr",
     "output_type": "stream",
     "text": [
      "c:\\users\\manth\\appdata\\local\\programs\\python\\python39\\lib\\site-packages\\bs4\\__init__.py:332: MarkupResemblesLocatorWarning: \"E3 ON PLAYSTATION HOME IN ABOUT AN HOUR!!!!!!!!!! \\../  \\../\" looks like a filename, not markup. You should probably open this file and pass the filehandle into Beautiful Soup.\n",
      "  warnings.warn(\n"
     ]
    },
    {
     "name": "stdout",
     "output_type": "stream",
     "text": [
      "Tweets 1300000 of 1600000 has been processed\n",
      "Tweets 1310000 of 1600000 has been processed\n",
      "Tweets 1320000 of 1600000 has been processed\n",
      "Tweets 1330000 of 1600000 has been processed\n",
      "Tweets 1340000 of 1600000 has been processed\n",
      "Tweets 1350000 of 1600000 has been processed\n",
      "Tweets 1360000 of 1600000 has been processed\n",
      "Tweets 1370000 of 1600000 has been processed\n",
      "Tweets 1380000 of 1600000 has been processed\n",
      "Tweets 1390000 of 1600000 has been processed\n",
      "Tweets 1400000 of 1600000 has been processed\n",
      "Tweets 1410000 of 1600000 has been processed\n",
      "Tweets 1420000 of 1600000 has been processed\n",
      "Tweets 1430000 of 1600000 has been processed\n",
      "Tweets 1440000 of 1600000 has been processed\n",
      "Tweets 1450000 of 1600000 has been processed\n",
      "Tweets 1460000 of 1600000 has been processed\n",
      "Tweets 1470000 of 1600000 has been processed\n",
      "Tweets 1480000 of 1600000 has been processed\n",
      "Tweets 1490000 of 1600000 has been processed\n",
      "Tweets 1500000 of 1600000 has been processed\n",
      "Tweets 1510000 of 1600000 has been processed\n",
      "Tweets 1520000 of 1600000 has been processed\n",
      "Tweets 1530000 of 1600000 has been processed\n",
      "Tweets 1540000 of 1600000 has been processed\n",
      "Tweets 1550000 of 1600000 has been processed\n",
      "Tweets 1560000 of 1600000 has been processed\n",
      "Tweets 1570000 of 1600000 has been processed\n",
      "Tweets 1580000 of 1600000 has been processed\n",
      "Tweets 1590000 of 1600000 has been processed\n",
      "Tweets 1600000 of 1600000 has been processed\n"
     ]
    }
   ],
   "source": [
    "nums = [0,400000,800000,1200000,1600000]\n",
    "print(\"Cleaning and parsing the tweets...\\n\")\n",
    "for i in range(nums[3],nums[4]):\n",
    "    if( (i+1)%10000 == 0 ):\n",
    "        print(\"Tweets %d of %d has been processed\" % ( i+1, nums[4] ))                                                                    \n",
    "    clean_tweets_texts.append(tweet_cleaner(df1['content'][i]))"
   ]
  },
  {
   "cell_type": "code",
   "execution_count": 20,
   "id": "alien-leave",
   "metadata": {},
   "outputs": [
    {
     "name": "stdout",
     "output_type": "stream",
     "text": [
      "<class 'pandas.core.frame.DataFrame'>\n",
      "RangeIndex: 1600000 entries, 0 to 1599999\n",
      "Data columns (total 2 columns):\n",
      " #   Column  Non-Null Count    Dtype \n",
      "---  ------  --------------    ----- \n",
      " 0   text    1600000 non-null  object\n",
      " 1   target  1600000 non-null  int64 \n",
      "dtypes: int64(1), object(1)\n",
      "memory usage: 24.4+ MB\n",
      "None\n"
     ]
    },
    {
     "data": {
      "text/html": [
       "<div>\n",
       "<style scoped>\n",
       "    .dataframe tbody tr th:only-of-type {\n",
       "        vertical-align: middle;\n",
       "    }\n",
       "\n",
       "    .dataframe tbody tr th {\n",
       "        vertical-align: top;\n",
       "    }\n",
       "\n",
       "    .dataframe thead th {\n",
       "        text-align: right;\n",
       "    }\n",
       "</style>\n",
       "<table border=\"1\" class=\"dataframe\">\n",
       "  <thead>\n",
       "    <tr style=\"text-align: right;\">\n",
       "      <th></th>\n",
       "      <th>text</th>\n",
       "      <th>target</th>\n",
       "    </tr>\n",
       "  </thead>\n",
       "  <tbody>\n",
       "    <tr>\n",
       "      <th>0</th>\n",
       "      <td>awww that s a bummer you shoulda got david car...</td>\n",
       "      <td>0</td>\n",
       "    </tr>\n",
       "    <tr>\n",
       "      <th>1</th>\n",
       "      <td>is upset that he can t update his facebook by ...</td>\n",
       "      <td>0</td>\n",
       "    </tr>\n",
       "    <tr>\n",
       "      <th>2</th>\n",
       "      <td>i dived many times for the ball managed to sav...</td>\n",
       "      <td>0</td>\n",
       "    </tr>\n",
       "    <tr>\n",
       "      <th>3</th>\n",
       "      <td>my whole body feels itchy and like its on fire</td>\n",
       "      <td>0</td>\n",
       "    </tr>\n",
       "    <tr>\n",
       "      <th>4</th>\n",
       "      <td>no it s not behaving at all i m mad why am i h...</td>\n",
       "      <td>0</td>\n",
       "    </tr>\n",
       "  </tbody>\n",
       "</table>\n",
       "</div>"
      ],
      "text/plain": [
       "                                                text  target\n",
       "0  awww that s a bummer you shoulda got david car...       0\n",
       "1  is upset that he can t update his facebook by ...       0\n",
       "2  i dived many times for the ball managed to sav...       0\n",
       "3     my whole body feels itchy and like its on fire       0\n",
       "4  no it s not behaving at all i m mad why am i h...       0"
      ]
     },
     "execution_count": 20,
     "metadata": {},
     "output_type": "execute_result"
    }
   ],
   "source": [
    "clean_df = pd.DataFrame(clean_tweets_texts,columns=['text'])\n",
    "clean_df['target'] = df1.target\n",
    "print(clean_df.info())\n",
    "clean_df.head()"
   ]
  },
  {
   "cell_type": "markdown",
   "id": "ordinary-completion",
   "metadata": {},
   "source": [
    "# saving cleaned tweets along with target sentiments in a csv file "
   ]
  },
  {
   "cell_type": "code",
   "execution_count": 21,
   "id": "incredible-cisco",
   "metadata": {},
   "outputs": [
    {
     "name": "stderr",
     "output_type": "stream",
     "text": [
      "c:\\users\\manth\\appdata\\local\\programs\\python\\python39\\lib\\site-packages\\numpy\\lib\\arraysetops.py:583: FutureWarning: elementwise comparison failed; returning scalar instead, but in the future will perform elementwise comparison\n",
      "  mask |= (ar1 == a)\n"
     ]
    },
    {
     "name": "stdout",
     "output_type": "stream",
     "text": [
      "<class 'pandas.core.frame.DataFrame'>\n",
      "Int64Index: 1600000 entries, 0 to 1599999\n",
      "Data columns (total 2 columns):\n",
      " #   Column  Non-Null Count    Dtype \n",
      "---  ------  --------------    ----- \n",
      " 0   text    1596753 non-null  object\n",
      " 1   target  1600000 non-null  int64 \n",
      "dtypes: int64(1), object(1)\n",
      "memory usage: 36.6+ MB\n"
     ]
    },
    {
     "data": {
      "text/html": [
       "<div>\n",
       "<style scoped>\n",
       "    .dataframe tbody tr th:only-of-type {\n",
       "        vertical-align: middle;\n",
       "    }\n",
       "\n",
       "    .dataframe tbody tr th {\n",
       "        vertical-align: top;\n",
       "    }\n",
       "\n",
       "    .dataframe thead th {\n",
       "        text-align: right;\n",
       "    }\n",
       "</style>\n",
       "<table border=\"1\" class=\"dataframe\">\n",
       "  <thead>\n",
       "    <tr style=\"text-align: right;\">\n",
       "      <th></th>\n",
       "      <th>text</th>\n",
       "      <th>target</th>\n",
       "    </tr>\n",
       "  </thead>\n",
       "  <tbody>\n",
       "    <tr>\n",
       "      <th>0</th>\n",
       "      <td>awww that s a bummer you shoulda got david car...</td>\n",
       "      <td>0</td>\n",
       "    </tr>\n",
       "    <tr>\n",
       "      <th>1</th>\n",
       "      <td>is upset that he can t update his facebook by ...</td>\n",
       "      <td>0</td>\n",
       "    </tr>\n",
       "    <tr>\n",
       "      <th>2</th>\n",
       "      <td>i dived many times for the ball managed to sav...</td>\n",
       "      <td>0</td>\n",
       "    </tr>\n",
       "    <tr>\n",
       "      <th>3</th>\n",
       "      <td>my whole body feels itchy and like its on fire</td>\n",
       "      <td>0</td>\n",
       "    </tr>\n",
       "    <tr>\n",
       "      <th>4</th>\n",
       "      <td>no it s not behaving at all i m mad why am i h...</td>\n",
       "      <td>0</td>\n",
       "    </tr>\n",
       "  </tbody>\n",
       "</table>\n",
       "</div>"
      ],
      "text/plain": [
       "                                                text  target\n",
       "0  awww that s a bummer you shoulda got david car...       0\n",
       "1  is upset that he can t update his facebook by ...       0\n",
       "2  i dived many times for the ball managed to sav...       0\n",
       "3     my whole body feels itchy and like its on fire       0\n",
       "4  no it s not behaving at all i m mad why am i h...       0"
      ]
     },
     "execution_count": 21,
     "metadata": {},
     "output_type": "execute_result"
    }
   ],
   "source": [
    "clean_df.to_csv('clean_tweets.csv',encoding='utf-8')\n",
    "csv = 'clean_tweets.csv'\n",
    "df2 = pd.read_csv(csv,index_col=0)\n",
    "df2.info()\n",
    "data=df2\n",
    "data.head()"
   ]
  },
  {
   "cell_type": "markdown",
   "id": "smoking-consumer",
   "metadata": {},
   "source": []
  },
  {
   "cell_type": "code",
   "execution_count": 23,
   "id": "rolled-suggestion",
   "metadata": {},
   "outputs": [
    {
     "data": {
      "text/plain": [
       "array([0, 4], dtype=int64)"
      ]
     },
     "execution_count": 23,
     "metadata": {},
     "output_type": "execute_result"
    }
   ],
   "source": [
    "data.target.unique()\n",
    "#unique values are 0 and 4 in category column which can be used for classifying positive and negative tweets"
   ]
  },
  {
   "cell_type": "code",
   "execution_count": 25,
   "id": "northern-horizontal",
   "metadata": {},
   "outputs": [
    {
     "name": "stderr",
     "output_type": "stream",
     "text": [
      "<ipython-input-25-5e636afda0d4>:2: FutureWarning: Passing a negative integer is deprecated in version 1.0 and will not be supported in future version. Instead, use None to not limit the column width.\n",
      "  pd.set_option('display.max_colwidth', -1)\n"
     ]
    },
    {
     "data": {
      "text/plain": [
       "0    awww that s a bummer you shoulda got david carr of third day to do it d                                  \n",
       "1    is upset that he can t update his facebook by texting it and might cry as a result school today also blah\n",
       "2    i dived many times for the ball managed to save the rest go out of bounds                                \n",
       "3    my whole body feels itchy and like its on fire                                                           \n",
       "4    no it s not behaving at all i m mad why am i here because i can t see you all over there                 \n",
       "Name: text, dtype: object"
      ]
     },
     "execution_count": 25,
     "metadata": {},
     "output_type": "execute_result"
    }
   ],
   "source": [
    "#returns starting 5 negative tweets\n",
    "pd.set_option('display.max_colwidth', -1)\n",
    "data[data['target']==0]['text'].head()\n",
    "#class 0 refers to negative tweets"
   ]
  },
  {
   "cell_type": "code",
   "execution_count": 28,
   "id": "realistic-running",
   "metadata": {},
   "outputs": [
    {
     "data": {
      "text/plain": [
       "800000    i love u guys r the best                                                                                            \n",
       "800001    im meeting up with one of my besties tonight cant wait girl talk                                                    \n",
       "800002    thanks for the twitter add sunisa i got to meet you once at a hin show here in the dc area and you were a sweetheart\n",
       "800003    being sick can be really cheap when it hurts too much to eat real food plus your friends make you soup              \n",
       "800004    he has that effect on everyone                                                                                      \n",
       "Name: text, dtype: object"
      ]
     },
     "execution_count": 28,
     "metadata": {},
     "output_type": "execute_result"
    }
   ],
   "source": [
    "#returns starting 5 negative tweets\n",
    "data[data['target']==4]['text'].head()\n",
    "#class 4 refers to positive tweets"
   ]
  },
  {
   "cell_type": "code",
   "execution_count": 29,
   "id": "sound-phenomenon",
   "metadata": {},
   "outputs": [],
   "source": [
    "data['target'] = data['target'].replace([0, 4],['Negative','Positive'])\n",
    "#Changing labels from 0 and 4 for more informative labels for further analysis"
   ]
  },
  {
   "cell_type": "code",
   "execution_count": 34,
   "id": "random-parallel",
   "metadata": {},
   "outputs": [
    {
     "data": {
      "text/plain": [
       "array(['Negative', 'Positive'], dtype=object)"
      ]
     },
     "execution_count": 34,
     "metadata": {},
     "output_type": "execute_result"
    }
   ],
   "source": [
    "data.target.unique()"
   ]
  },
  {
   "cell_type": "code",
   "execution_count": 35,
   "id": "violent-jefferson",
   "metadata": {},
   "outputs": [
    {
     "data": {
      "image/png": "[encoded data removed]",
      "text/plain": [
       "<Figure size 576x576 with 1 Axes>"
      ]
     },
     "metadata": {},
     "output_type": "display_data"
    }
   ],
   "source": [
    "fig = plt.figure(figsize=(8,8))\n",
    "targets = data.groupby('target').size()\n",
    "targets.plot(kind='pie', subplots=True, figsize=(10, 8), autopct = \"%.2f%%\", colors=['red','green'])\n",
    "plt.title(\"Pie chart of different classes of tweets\",fontsize=16)\n",
    "plt.ylabel(\"\")\n",
    "plt.legend()\n",
    "plt.show()\n",
    "#plotting a pie chart for descriptive analysis"
   ]
  },
  {
   "cell_type": "code",
   "execution_count": 36,
   "id": "mathematical-local",
   "metadata": {},
   "outputs": [],
   "source": [
    "data = data.dropna(axis = 0, how ='any')"
   ]
  },
  {
   "cell_type": "code",
   "execution_count": 37,
   "id": "usual-dinner",
   "metadata": {},
   "outputs": [
    {
     "name": "stdout",
     "output_type": "stream",
     "text": [
      "1596753\n"
     ]
    }
   ],
   "source": [
    "print(len(data.text))\n",
    "score=[]"
   ]
  },
  {
   "cell_type": "code",
   "execution_count": 43,
   "id": "beautiful-treasure",
   "metadata": {},
   "outputs": [
    {
     "name": "stdout",
     "output_type": "stream",
     "text": [
      "All data is processed\n"
     ]
    }
   ],
   "source": [
    "#calculating sentimental score for each tweet\n",
    "nums = [0,400000,800000,1200000,1596754]\n",
    "tweets_list=data.text[nums[3]:nums[4]]\n",
    "for i in tweets_list:\n",
    "    analysis = TextBlob(i)\n",
    "    score.append(analysis.sentiment.polarity)\n",
    "print(\"All data is processed\")"
   ]
  },
  {
   "cell_type": "code",
   "execution_count": 44,
   "id": "solid-livestock",
   "metadata": {},
   "outputs": [
    {
     "name": "stdout",
     "output_type": "stream",
     "text": [
      "<class 'pandas.core.frame.DataFrame'>\n",
      "Int64Index: 1596753 entries, 0 to 1599999\n",
      "Data columns (total 2 columns):\n",
      " #   Column  Non-Null Count    Dtype \n",
      "---  ------  --------------    ----- \n",
      " 0   text    1596753 non-null  object\n",
      " 1   target  1596753 non-null  object\n",
      "dtypes: object(2)\n",
      "memory usage: 36.5+ MB\n",
      "None\n"
     ]
    }
   ],
   "source": [
    "print(data.info())\n",
    "detected_sentiment=[]"
   ]
  },
  {
   "cell_type": "code",
   "execution_count": 48,
   "id": "average-restriction",
   "metadata": {},
   "outputs": [
    {
     "name": "stdout",
     "output_type": "stream",
     "text": [
      "Processing done\n",
      "1596753\n"
     ]
    }
   ],
   "source": [
    "#finding corresponing sentiment type based upon calculated sentiment score\n",
    "scores_list=score[nums[3]:nums[4]]\n",
    "for i in scores_list:\n",
    "    if i > 0:\n",
    "        detected_sentiment.append('positive')\n",
    "    elif i == 0:\n",
    "        detected_sentiment.append('neutral')\n",
    "    else:\n",
    "        detected_sentiment.append('negative')\n",
    "print(\"Processing done\")\n",
    "print(len(detected_sentiment))"
   ]
  },
  {
   "cell_type": "code",
   "execution_count": 49,
   "id": "chubby-robertson",
   "metadata": {},
   "outputs": [
    {
     "name": "stdout",
     "output_type": "stream",
     "text": [
      "1596753\n",
      "1596753\n",
      "1596753\n",
      "1596753\n"
     ]
    }
   ],
   "source": [
    "print(len(data.text))\n",
    "print(len(score))\n",
    "print(len(data))\n",
    "print(len(detected_sentiment))"
   ]
  },
  {
   "cell_type": "markdown",
   "id": "western-enclosure",
   "metadata": {},
   "source": [
    "Saving new csv file with columns text,actual sentiment, sentiment_score, and detected sentiment "
   ]
  },
  {
   "cell_type": "code",
   "execution_count": 83,
   "id": "valuable-ethnic",
   "metadata": {},
   "outputs": [
    {
     "name": "stderr",
     "output_type": "stream",
     "text": [
      "c:\\users\\manth\\appdata\\local\\programs\\python\\python39\\lib\\site-packages\\numpy\\lib\\arraysetops.py:583: FutureWarning: elementwise comparison failed; returning scalar instead, but in the future will perform elementwise comparison\n",
      "  mask |= (ar1 == a)\n"
     ]
    },
    {
     "name": "stdout",
     "output_type": "stream",
     "text": [
      "<class 'pandas.core.frame.DataFrame'>\n",
      "Int64Index: 1596753 entries, 0 to 1599999\n",
      "Data columns (total 4 columns):\n",
      " #   Column           Non-Null Count    Dtype  \n",
      "---  ------           --------------    -----  \n",
      " 0   text             1596753 non-null  object \n",
      " 1   actual           1596753 non-null  object \n",
      " 2   sentiment_score  1596753 non-null  float64\n",
      " 3   detected         1596753 non-null  object \n",
      "dtypes: float64(1), object(3)\n",
      "memory usage: 60.9+ MB\n"
     ]
    }
   ],
   "source": [
    "new_df = pd.DataFrame(data.text,columns=['text'])\n",
    "new_df['actual'] = data.target\n",
    "new_df['sentiment_score'] = score\n",
    "new_df['detected'] = detected_sentiment\n",
    "new_df.to_csv('classified_tweets.csv',encoding='utf-8')\n",
    "csv = 'classified_tweets.csv'\n",
    "my_df = pd.read_csv(csv,index_col=0)\n",
    "data=my_df\n",
    "data.info()"
   ]
  },
  {
   "cell_type": "code",
   "execution_count": 53,
   "id": "black-promise",
   "metadata": {},
   "outputs": [
    {
     "data": {
      "text/plain": [
       "positive    702840\n",
       "neutral     557565\n",
       "negative    336348\n",
       "Name: detected, dtype: int64"
      ]
     },
     "execution_count": 53,
     "metadata": {},
     "output_type": "execute_result"
    }
   ],
   "source": [
    "#finidng number of positive, negative and neutral tweets\n",
    "data.head()\n",
    "data['detected'].value_counts()"
   ]
  },
  {
   "cell_type": "code",
   "execution_count": 54,
   "id": "continental-george",
   "metadata": {},
   "outputs": [
    {
     "data": {
      "text/plain": [
       "count    1.596753e+06\n",
       "mean     9.541386e-02\n",
       "std      3.302606e-01\n",
       "min     -1.000000e+00\n",
       "25%      0.000000e+00\n",
       "50%      0.000000e+00\n",
       "75%      2.857143e-01\n",
       "max      1.000000e+00\n",
       "Name: sentiment_score, dtype: float64"
      ]
     },
     "execution_count": 54,
     "metadata": {},
     "output_type": "execute_result"
    }
   ],
   "source": [
    "data['sentiment_score'].describe()"
   ]
  },
  {
   "cell_type": "code",
   "execution_count": 55,
   "id": "reduced-rebel",
   "metadata": {},
   "outputs": [],
   "source": [
    "positive_tweets_list=data[data['detected']=='positive']\n",
    "neutral_tweets_list=data[data['detected']=='neutral']\n",
    "negative_tweets_list=data[data['detected']=='negative']"
   ]
  },
  {
   "cell_type": "code",
   "execution_count": 56,
   "id": "right-local",
   "metadata": {},
   "outputs": [
    {
     "data": {
      "image/png": "[encoded data removed]",
      "text/plain": [
       "<Figure size 480x320 with 1 Axes>"
      ]
     },
     "metadata": {},
     "output_type": "display_data"
    }
   ],
   "source": [
    "plt.style.use('fivethirtyeight')\n",
    "fig = plt.figure(figsize=(6, 4), dpi=80)\n",
    "ax = fig.add_axes([0,0,1,1])\n",
    "sentiments = ['Positive','Neutral','Negative']\n",
    "no_of_tweets = [len(positive_tweets_list),len(neutral_tweets_list),len(negative_tweets_list)]\n",
    "ax.bar(sentiments,no_of_tweets,color=['green', 'blue', 'red'])\n",
    "plt.xlabel('Sentiments')\n",
    "plt.ylabel('No. of sentiments')\n",
    "plt.show()"
   ]
  },
  {
   "cell_type": "code",
   "execution_count": 57,
   "id": "beneficial-keeping",
   "metadata": {},
   "outputs": [
    {
     "data": {
      "image/png": "[encoded data removed]",
      "text/plain": [
       "<Figure size 576x576 with 1 Axes>"
      ]
     },
     "metadata": {},
     "output_type": "display_data"
    }
   ],
   "source": [
    "fig = plt.figure(figsize=(8,8))\n",
    "targets = data.groupby('detected').size()\n",
    "targets.plot(kind='pie', subplots=True, figsize=(10, 8), autopct = \"%.2f%%\", colors=['red','skyblue','lime'],textprops={'fontsize': 14})\n",
    "plt.title(\"Pie chart of different classes of tweets\",fontsize=16)\n",
    "plt.ylabel(\"\")\n",
    "plt.legend()\n",
    "plt.show()"
   ]
  },
  {
   "cell_type": "code",
   "execution_count": 58,
   "id": "ruled-royalty",
   "metadata": {},
   "outputs": [
    {
     "data": {
      "image/png": "[encoded data removed]",
      "text/plain": [
       "<Figure size 432x288 with 1 Axes>"
      ]
     },
     "metadata": {},
     "output_type": "display_data"
    }
   ],
   "source": [
    "# Create a circle for the center of the plot\n",
    "my_circle=plt.Circle( (0,0), 0.7, color='white')\n",
    "plt.pie(targets, labels=[\"negative\",\"neutral\",\"positive\"], colors=['red','skyblue','lime'])\n",
    "p=plt.gcf()\n",
    "p.gca().add_artist(my_circle)\n",
    "plt.show()"
   ]
  },
  {
   "cell_type": "code",
   "execution_count": 60,
   "id": "regular-raise",
   "metadata": {},
   "outputs": [
    {
     "ename": "KeyError",
     "evalue": "208",
     "output_type": "error",
     "traceback": [
      "\u001b[1;31m---------------------------------------------------------------------------\u001b[0m",
      "\u001b[1;31mKeyError\u001b[0m                                  Traceback (most recent call last)",
      "\u001b[1;32mc:\\users\\manth\\appdata\\local\\programs\\python\\python39\\lib\\site-packages\\pandas\\core\\indexes\\base.py\u001b[0m in \u001b[0;36mget_loc\u001b[1;34m(self, key, method, tolerance)\u001b[0m\n\u001b[0;32m   3079\u001b[0m             \u001b[1;32mtry\u001b[0m\u001b[1;33m:\u001b[0m\u001b[1;33m\u001b[0m\u001b[1;33m\u001b[0m\u001b[0m\n\u001b[1;32m-> 3080\u001b[1;33m                 \u001b[1;32mreturn\u001b[0m \u001b[0mself\u001b[0m\u001b[1;33m.\u001b[0m\u001b[0m_engine\u001b[0m\u001b[1;33m.\u001b[0m\u001b[0mget_loc\u001b[0m\u001b[1;33m(\u001b[0m\u001b[0mcasted_key\u001b[0m\u001b[1;33m)\u001b[0m\u001b[1;33m\u001b[0m\u001b[1;33m\u001b[0m\u001b[0m\n\u001b[0m\u001b[0;32m   3081\u001b[0m             \u001b[1;32mexcept\u001b[0m \u001b[0mKeyError\u001b[0m \u001b[1;32mas\u001b[0m \u001b[0merr\u001b[0m\u001b[1;33m:\u001b[0m\u001b[1;33m\u001b[0m\u001b[1;33m\u001b[0m\u001b[0m\n",
      "\u001b[1;32mpandas\\_libs\\index.pyx\u001b[0m in \u001b[0;36mpandas._libs.index.IndexEngine.get_loc\u001b[1;34m()\u001b[0m\n",
      "\u001b[1;32mpandas\\_libs\\index.pyx\u001b[0m in \u001b[0;36mpandas._libs.index.IndexEngine.get_loc\u001b[1;34m()\u001b[0m\n",
      "\u001b[1;32mpandas\\_libs\\hashtable_class_helper.pxi\u001b[0m in \u001b[0;36mpandas._libs.hashtable.Int64HashTable.get_item\u001b[1;34m()\u001b[0m\n",
      "\u001b[1;32mpandas\\_libs\\hashtable_class_helper.pxi\u001b[0m in \u001b[0;36mpandas._libs.hashtable.Int64HashTable.get_item\u001b[1;34m()\u001b[0m\n",
      "\u001b[1;31mKeyError\u001b[0m: 208",
      "\nThe above exception was the direct cause of the following exception:\n",
      "\u001b[1;31mKeyError\u001b[0m                                  Traceback (most recent call last)",
      "\u001b[1;32m<ipython-input-60-3e4e4f7624b1>\u001b[0m in \u001b[0;36m<module>\u001b[1;34m\u001b[0m\n\u001b[0;32m     14\u001b[0m \u001b[0mf\u001b[0m\u001b[1;33m.\u001b[0m\u001b[0mset_figheight\u001b[0m\u001b[1;33m(\u001b[0m\u001b[1;36m8\u001b[0m\u001b[1;33m)\u001b[0m\u001b[1;33m\u001b[0m\u001b[1;33m\u001b[0m\u001b[0m\n\u001b[0;32m     15\u001b[0m \u001b[1;32mfor\u001b[0m \u001b[0mi\u001b[0m \u001b[1;32min\u001b[0m \u001b[0mrange\u001b[0m\u001b[1;33m(\u001b[0m\u001b[1;36m1000\u001b[0m\u001b[1;33m)\u001b[0m\u001b[1;33m:\u001b[0m\u001b[1;33m\u001b[0m\u001b[1;33m\u001b[0m\u001b[0m\n\u001b[1;32m---> 16\u001b[1;33m     \u001b[0mplt\u001b[0m\u001b[1;33m.\u001b[0m\u001b[0mscatter\u001b[0m\u001b[1;33m(\u001b[0m\u001b[0mx\u001b[0m\u001b[1;33m[\u001b[0m\u001b[0mi\u001b[0m\u001b[1;33m]\u001b[0m\u001b[1;33m,\u001b[0m \u001b[0my\u001b[0m\u001b[1;33m[\u001b[0m\u001b[0mi\u001b[0m\u001b[1;33m]\u001b[0m\u001b[1;33m,\u001b[0m\u001b[0mc\u001b[0m\u001b[1;33m=\u001b[0m\u001b[0mcol\u001b[0m\u001b[1;33m[\u001b[0m\u001b[0mi\u001b[0m\u001b[1;33m]\u001b[0m\u001b[1;33m)\u001b[0m\u001b[1;33m\u001b[0m\u001b[1;33m\u001b[0m\u001b[0m\n\u001b[0m\u001b[0;32m     17\u001b[0m \u001b[0mplt\u001b[0m\u001b[1;33m.\u001b[0m\u001b[0mshow\u001b[0m\u001b[1;33m(\u001b[0m\u001b[1;33m)\u001b[0m\u001b[1;33m\u001b[0m\u001b[1;33m\u001b[0m\u001b[0m\n",
      "\u001b[1;32mc:\\users\\manth\\appdata\\local\\programs\\python\\python39\\lib\\site-packages\\pandas\\core\\series.py\u001b[0m in \u001b[0;36m__getitem__\u001b[1;34m(self, key)\u001b[0m\n\u001b[0;32m    851\u001b[0m \u001b[1;33m\u001b[0m\u001b[0m\n\u001b[0;32m    852\u001b[0m         \u001b[1;32melif\u001b[0m \u001b[0mkey_is_scalar\u001b[0m\u001b[1;33m:\u001b[0m\u001b[1;33m\u001b[0m\u001b[1;33m\u001b[0m\u001b[0m\n\u001b[1;32m--> 853\u001b[1;33m             \u001b[1;32mreturn\u001b[0m \u001b[0mself\u001b[0m\u001b[1;33m.\u001b[0m\u001b[0m_get_value\u001b[0m\u001b[1;33m(\u001b[0m\u001b[0mkey\u001b[0m\u001b[1;33m)\u001b[0m\u001b[1;33m\u001b[0m\u001b[1;33m\u001b[0m\u001b[0m\n\u001b[0m\u001b[0;32m    854\u001b[0m \u001b[1;33m\u001b[0m\u001b[0m\n\u001b[0;32m    855\u001b[0m         \u001b[1;32mif\u001b[0m \u001b[0mis_hashable\u001b[0m\u001b[1;33m(\u001b[0m\u001b[0mkey\u001b[0m\u001b[1;33m)\u001b[0m\u001b[1;33m:\u001b[0m\u001b[1;33m\u001b[0m\u001b[1;33m\u001b[0m\u001b[0m\n",
      "\u001b[1;32mc:\\users\\manth\\appdata\\local\\programs\\python\\python39\\lib\\site-packages\\pandas\\core\\series.py\u001b[0m in \u001b[0;36m_get_value\u001b[1;34m(self, label, takeable)\u001b[0m\n\u001b[0;32m    959\u001b[0m \u001b[1;33m\u001b[0m\u001b[0m\n\u001b[0;32m    960\u001b[0m         \u001b[1;31m# Similar to Index.get_value, but we do not fall back to positional\u001b[0m\u001b[1;33m\u001b[0m\u001b[1;33m\u001b[0m\u001b[1;33m\u001b[0m\u001b[0m\n\u001b[1;32m--> 961\u001b[1;33m         \u001b[0mloc\u001b[0m \u001b[1;33m=\u001b[0m \u001b[0mself\u001b[0m\u001b[1;33m.\u001b[0m\u001b[0mindex\u001b[0m\u001b[1;33m.\u001b[0m\u001b[0mget_loc\u001b[0m\u001b[1;33m(\u001b[0m\u001b[0mlabel\u001b[0m\u001b[1;33m)\u001b[0m\u001b[1;33m\u001b[0m\u001b[1;33m\u001b[0m\u001b[0m\n\u001b[0m\u001b[0;32m    962\u001b[0m         \u001b[1;32mreturn\u001b[0m \u001b[0mself\u001b[0m\u001b[1;33m.\u001b[0m\u001b[0mindex\u001b[0m\u001b[1;33m.\u001b[0m\u001b[0m_get_values_for_loc\u001b[0m\u001b[1;33m(\u001b[0m\u001b[0mself\u001b[0m\u001b[1;33m,\u001b[0m \u001b[0mloc\u001b[0m\u001b[1;33m,\u001b[0m \u001b[0mlabel\u001b[0m\u001b[1;33m)\u001b[0m\u001b[1;33m\u001b[0m\u001b[1;33m\u001b[0m\u001b[0m\n\u001b[0;32m    963\u001b[0m \u001b[1;33m\u001b[0m\u001b[0m\n",
      "\u001b[1;32mc:\\users\\manth\\appdata\\local\\programs\\python\\python39\\lib\\site-packages\\pandas\\core\\indexes\\base.py\u001b[0m in \u001b[0;36mget_loc\u001b[1;34m(self, key, method, tolerance)\u001b[0m\n\u001b[0;32m   3080\u001b[0m                 \u001b[1;32mreturn\u001b[0m \u001b[0mself\u001b[0m\u001b[1;33m.\u001b[0m\u001b[0m_engine\u001b[0m\u001b[1;33m.\u001b[0m\u001b[0mget_loc\u001b[0m\u001b[1;33m(\u001b[0m\u001b[0mcasted_key\u001b[0m\u001b[1;33m)\u001b[0m\u001b[1;33m\u001b[0m\u001b[1;33m\u001b[0m\u001b[0m\n\u001b[0;32m   3081\u001b[0m             \u001b[1;32mexcept\u001b[0m \u001b[0mKeyError\u001b[0m \u001b[1;32mas\u001b[0m \u001b[0merr\u001b[0m\u001b[1;33m:\u001b[0m\u001b[1;33m\u001b[0m\u001b[1;33m\u001b[0m\u001b[0m\n\u001b[1;32m-> 3082\u001b[1;33m                 \u001b[1;32mraise\u001b[0m \u001b[0mKeyError\u001b[0m\u001b[1;33m(\u001b[0m\u001b[0mkey\u001b[0m\u001b[1;33m)\u001b[0m \u001b[1;32mfrom\u001b[0m \u001b[0merr\u001b[0m\u001b[1;33m\u001b[0m\u001b[1;33m\u001b[0m\u001b[0m\n\u001b[0m\u001b[0;32m   3083\u001b[0m \u001b[1;33m\u001b[0m\u001b[0m\n\u001b[0;32m   3084\u001b[0m         \u001b[1;32mif\u001b[0m \u001b[0mtolerance\u001b[0m \u001b[1;32mis\u001b[0m \u001b[1;32mnot\u001b[0m \u001b[1;32mNone\u001b[0m\u001b[1;33m:\u001b[0m\u001b[1;33m\u001b[0m\u001b[1;33m\u001b[0m\u001b[0m\n",
      "\u001b[1;31mKeyError\u001b[0m: 208"
     ]
    },
    {
     "data": {
      "image/png": "[encoded data removed]",
      "text/plain": [
       "<Figure size 720x576 with 1 Axes>"
      ]
     },
     "metadata": {},
     "output_type": "display_data"
    }
   ],
   "source": [
    "col =[]\n",
    "for i in data.sentiment_score:\n",
    "    if i<0:\n",
    "        col.append('red')  \n",
    "    elif i==0:\n",
    "        col.append('blue')\n",
    "    else:\n",
    "        col.append('green') \n",
    "plt.style.use(\"fivethirtyeight\")\n",
    "x = data.index[:1000]\n",
    "y = data.sentiment_score[:1000]\n",
    "f = plt.figure()\n",
    "f.set_figwidth(10)\n",
    "f.set_figheight(8)\n",
    "for i in range(1000):\n",
    "    plt.scatter(x[i], y[i],c=col[i])\n",
    "plt.show()"
   ]
  },
  {
   "cell_type": "code",
   "execution_count": 61,
   "id": "fallen-sterling",
   "metadata": {},
   "outputs": [
    {
     "data": {
      "text/plain": [
       " 0.000000    557565\n",
       " 0.500000    74505 \n",
       " 0.200000    60509 \n",
       "-0.500000    39327 \n",
       " 0.800000    38788 \n",
       "             ...   \n",
       "-0.425714    1     \n",
       "-0.098958    1     \n",
       "-0.027679    1     \n",
       " 0.192460    1     \n",
       " 0.137649    1     \n",
       "Name: sentiment_score, Length: 13503, dtype: int64"
      ]
     },
     "execution_count": 61,
     "metadata": {},
     "output_type": "execute_result"
    }
   ],
   "source": [
    "data.sentiment_score.value_counts()"
   ]
  },
  {
   "cell_type": "markdown",
   "id": "complicated-senegal",
   "metadata": {},
   "source": [
    "# Implementing different algorithms "
   ]
  },
  {
   "cell_type": "code",
   "execution_count": 257,
   "id": "confidential-samba",
   "metadata": {},
   "outputs": [
    {
     "data": {
      "text/plain": [
       "'\\nSplit your data into training and evaluation sets.\\nSelect a model architecture.\\nUse training data to train your model.\\nUse test data to evaluate the performance of your model.\\nUse your trained model on new data to generate predictions, which in this case will be a number between -1.0 and 1.0\\n'"
      ]
     },
     "execution_count": 257,
     "metadata": {},
     "output_type": "execute_result"
    }
   ],
   "source": [
    "accuracy_score = metrics.accuracy_score(predicted, Y_test)\n",
    "print(str('{:04.2f}'.format(accuracy_score*100))+'%')"
   ]
  },
  {
   "cell_type": "code",
   "execution_count": 84,
   "id": "charitable-tsunami",
   "metadata": {},
   "outputs": [],
   "source": [
    "# Create feature vectors\n",
    "vectorizer = TfidfVectorizer(min_df = 5,max_df = 0.8,sublinear_tf = True,use_idf = True)\n",
    "train_vectors = vectorizer.fit_transform(data['text'][:1000])\n",
    "test_vectors = vectorizer.transform(data['text'][:1000])"
   ]
  },
  {
   "cell_type": "markdown",
   "id": "advanced-native",
   "metadata": {},
   "source": [
    "Linear Kernel is used when the data is Linearly separable, that is, it can be separated using a single Line. It is one of the most common kernels to be used. ... Training a SVM with a Linear Kernel is Faster than with any other Kernel."
   ]
  },
  {
   "cell_type": "code",
   "execution_count": 133,
   "id": "theoretical-sudan",
   "metadata": {},
   "outputs": [
    {
     "name": "stdout",
     "output_type": "stream",
     "text": [
      "Training time: 0.158567s; Prediction time: 0.075010s\n",
      "positive:  {'precision': 0.9245283018867925, 'recall': 0.8112582781456954, 'f1-score': 0.8641975308641975, 'support': 302}\n",
      "negative:  {'precision': 0.8676923076923077, 'recall': 0.8057142857142857, 'f1-score': 0.8355555555555556, 'support': 350}\n",
      "Accuracy of SVM:  85.3 %\n"
     ]
    }
   ],
   "source": [
    "# Perform classification with SVM, kernel=linear\n",
    "classifier_linear = svm.SVC(kernel='linear')\n",
    "t0 = time.time()\n",
    "classifier_linear.fit(train_vectors, data['detected'][:1000])\n",
    "t1 = time.time()\n",
    "prediction_linear = classifier_linear.predict(test_vectors)\n",
    "t2 = time.time()\n",
    "time_linear_train = t1-t0\n",
    "time_linear_predict = t2-t1\n",
    "# results\n",
    "print(\"Training time: %fs; Prediction time: %fs\" % (time_linear_train, time_linear_predict))\n",
    "report = classification_report(data['detected'][:1000], prediction_linear, output_dict=True)\n",
    "print('positive: ', report['positive'])\n",
    "print('negative: ', report['negative'])\n",
    "print('Accuracy of SVM: ', report['accuracy']*100,\"%\")"
   ]
  },
  {
   "cell_type": "code",
   "execution_count": 108,
   "id": "swedish-buddy",
   "metadata": {},
   "outputs": [],
   "source": [
    "# Save the trained model as a pickle string.\n",
    "saved_model = pickle.dumps(classifier_linear)"
   ]
  },
  {
   "cell_type": "markdown",
   "id": "legal-chamber",
   "metadata": {},
   "source": [
    "# Testing the model with different examples"
   ]
  },
  {
   "cell_type": "code",
   "execution_count": 109,
   "id": "exclusive-elder",
   "metadata": {},
   "outputs": [
    {
     "name": "stdout",
     "output_type": "stream",
     "text": [
      "Duh, I know this already, people say nice things about my business. >> negative\n",
      "I found this film so awesome, it made me cry >> neutral\n",
      "I have never seen such a great movie. Best ever >> positive\n",
      "This is a horrible movie. I really hated it! >> negative\n",
      "I have never seen such worst movie. The director should be fired >> neutral\n",
      "What should I say... This is the worst movie ever >> neutral\n"
     ]
    }
   ],
   "source": [
    "\n",
    "li=['Duh, I know this already, people say nice things about my business.',\"I found this film so awesome, it made me cry\",\"I have never seen such a great movie. Best ever\",\"This is a horrible movie. I really hated it!\",\"I have never seen such worst movie. The director should be fired\",\"What should I say... This is the worst movie ever\"]\n",
    "s=vectorizer.transform(li)\n",
    "pred=classifier_linear.predict(s)\n",
    "for i,j in zip(li,pred):\n",
    "    print(i,'>>',j)"
   ]
  },
  {
   "cell_type": "code",
   "execution_count": 110,
   "id": "athletic-switzerland",
   "metadata": {},
   "outputs": [],
   "source": [
    "sentPositive = [\n",
    "  \"I like it\", \"like it a lot\", \"It's really good\",\n",
    "  \"recommend!\", \"Enjoyed!\", \"like it\",\n",
    "  \"It's really good\", \"recommend too\",\n",
    "  \"outstanding\", \"good\", \"recommend!\",\n",
    "  \"like it a lot\", \"really good\", \n",
    "  \"Definitely recommend!\", \"It is fun\",\n",
    "  \"liked!\", \"highly recommend this\",\n",
    "  \"fantastic show\", \"exciting\",\n",
    "  \"Very good\", \"it's ok\",\n",
    "  \"exciting show\", \"amazing performance\",\n",
    "  \"it is great!\",\"I am excited a lot\",\n",
    "  \"it is terrific\", \"Definitely good one\",\n",
    "  \"very satisfied\", \"Glad we went\",\n",
    "  \"Once again outstanding!\", \"awesome\"\n",
    "]\n",
    " \n",
    "sentNegative = [\n",
    "  \"Not good at all!\",\"rude\",\n",
    "  \"It is rude\", \"I don't like this type\",\n",
    "  \"poor\", \"Boring\", \"Not good!\",\n",
    "  \"not liked\", \"I hate this type of\",\n",
    "  \"not recommend\", \"not satisfied\",\n",
    "  \"not enjoyed\", \"Not recommend this.\",\n",
    "  \"disgusting movie\",\"waste of time\",\n",
    "  \"feel tired after watching this\",\n",
    "  \"horrible performance\", \"not so good\",\n",
    "  \"so boring I fell asleep\", \"poor show\",\n",
    "  \"a bit strange\",\"terrible\"\n",
    "]"
   ]
  },
  {
   "cell_type": "code",
   "execution_count": 111,
   "id": "cordless-substance",
   "metadata": {},
   "outputs": [
    {
     "name": "stdout",
     "output_type": "stream",
     "text": [
      "I like it >>> neutral\n",
      "like it a lot >>> neutral\n",
      "It's really good >>> positive\n",
      "recommend! >>> neutral\n",
      "Enjoyed! >>> neutral\n",
      "like it >>> neutral\n",
      "It's really good >>> positive\n",
      "recommend too >>> neutral\n",
      "outstanding >>> neutral\n",
      "good >>> positive\n",
      "recommend! >>> neutral\n",
      "like it a lot >>> neutral\n",
      "really good >>> positive\n",
      "Definitely recommend! >>> neutral\n",
      "It is fun >>> negative\n",
      "liked! >>> neutral\n",
      "highly recommend this >>> neutral\n",
      "fantastic show >>> neutral\n",
      "exciting >>> neutral\n",
      "Very good >>> positive\n",
      "it's ok >>> positive\n",
      "exciting show >>> neutral\n",
      "amazing performance >>> neutral\n",
      "it is great! >>> positive\n",
      "I am excited a lot >>> neutral\n",
      "it is terrific >>> neutral\n",
      "Definitely good one >>> positive\n",
      "very satisfied >>> positive\n",
      "Glad we went >>> neutral\n",
      "Once again outstanding! >>> neutral\n",
      "awesome >>> neutral\n"
     ]
    }
   ],
   "source": [
    "for i in sentPositive:\n",
    "    review_vector = vectorizer.transform([i]) # vectorizing\n",
    "    print(i,'>>>',*classifier_linear.predict(review_vector))"
   ]
  },
  {
   "cell_type": "code",
   "execution_count": 112,
   "id": "reflected-pressure",
   "metadata": {},
   "outputs": [
    {
     "name": "stdout",
     "output_type": "stream",
     "text": [
      "Not good at all! >>> positive\n",
      "rude >>> neutral\n",
      "It is rude >>> neutral\n",
      "I don't like this type >>> neutral\n",
      "poor >>> negative\n",
      "Boring >>> neutral\n",
      "Not good! >>> positive\n",
      "not liked >>> neutral\n",
      "I hate this type of >>> negative\n",
      "not recommend >>> neutral\n",
      "not satisfied >>> neutral\n",
      "not enjoyed >>> neutral\n",
      "Not recommend this. >>> negative\n",
      "disgusting movie >>> neutral\n",
      "waste of time >>> neutral\n",
      "feel tired after watching this >>> negative\n",
      "horrible performance >>> negative\n",
      "not so good >>> positive\n",
      "so boring I fell asleep >>> negative\n",
      "poor show >>> negative\n",
      "a bit strange >>> neutral\n",
      "terrible >>> neutral\n"
     ]
    }
   ],
   "source": [
    "for i in sentNegative:\n",
    "    review_vector = vectorizer.transform([i]) # vectorizing\n",
    "    print(i,'>>>',*classifier_linear.predict(review_vector))"
   ]
  },
  {
   "cell_type": "code",
   "execution_count": 113,
   "id": "apart-synthesis",
   "metadata": {},
   "outputs": [],
   "source": [
    "temp_data=[]\n",
    "for i in data.sentiment_score:\n",
    "    if i<0:\n",
    "        temp_data.append(0)\n",
    "    else:\n",
    "        temp_data.append(1)"
   ]
  },
  {
   "cell_type": "code",
   "execution_count": 114,
   "id": "labeled-edmonton",
   "metadata": {},
   "outputs": [
    {
     "name": "stdout",
     "output_type": "stream",
     "text": [
      "[1, 1, 1, 1, 0, 1, 1, 1, 1, 1, 0, 1, 1, 1, 1, 1, 1, 1, 1, 1]\n"
     ]
    }
   ],
   "source": [
    "print(temp_data[:20])"
   ]
  },
  {
   "cell_type": "code",
   "execution_count": 115,
   "id": "cultural-knowing",
   "metadata": {},
   "outputs": [],
   "source": [
    "data.head()\n",
    "x=data['text']\n",
    "tfidf=TfidfVectorizer(max_features=10000,ngram_range=(1,2))\n",
    "x=tfidf.fit_transform(x)\n",
    "y=temp_data"
   ]
  },
  {
   "cell_type": "code",
   "execution_count": 116,
   "id": "large-recorder",
   "metadata": {},
   "outputs": [
    {
     "data": {
      "text/plain": [
       "(1596753, 10000)"
      ]
     },
     "execution_count": 116,
     "metadata": {},
     "output_type": "execute_result"
    }
   ],
   "source": [
    "x.shape"
   ]
  },
  {
   "cell_type": "code",
   "execution_count": 117,
   "id": "random-trouble",
   "metadata": {},
   "outputs": [],
   "source": [
    "x_train,x_test,y_train,y_test=train_test_split(x,y,test_size=0.2,random_state=0)"
   ]
  },
  {
   "cell_type": "code",
   "execution_count": 118,
   "id": "compatible-racing",
   "metadata": {},
   "outputs": [
    {
     "data": {
      "text/plain": [
       "((1277402, 10000), (319351, 10000))"
      ]
     },
     "execution_count": 118,
     "metadata": {},
     "output_type": "execute_result"
    }
   ],
   "source": [
    "x_train.shape,x_test.shape"
   ]
  },
  {
   "cell_type": "code",
   "execution_count": 119,
   "id": "mounted-generator",
   "metadata": {},
   "outputs": [
    {
     "data": {
      "text/plain": [
       "LinearSVC()"
      ]
     },
     "execution_count": 119,
     "metadata": {},
     "output_type": "execute_result"
    }
   ],
   "source": [
    "clf=LinearSVC()\n",
    "clf.fit(x_train,y_train)"
   ]
  },
  {
   "cell_type": "code",
   "execution_count": 129,
   "id": "tight-offering",
   "metadata": {},
   "outputs": [],
   "source": [
    "y_pred=clf.predict(x_test)"
   ]
  },
  {
   "cell_type": "code",
   "execution_count": 132,
   "id": "union-mexico",
   "metadata": {},
   "outputs": [
    {
     "name": "stdout",
     "output_type": "stream",
     "text": [
      "Accuracy of Linear Support vector classifier is  97.44%\n"
     ]
    }
   ],
   "source": [
    "accuracy_score = metrics.accuracy_score(y_pred,y_test)\n",
    "print(\"Accuracy of Linear Support vector classifier is \",str('{:04.2f}'.format(accuracy_score*100))+'%')"
   ]
  },
  {
   "cell_type": "code",
   "execution_count": 134,
   "id": "tough-change",
   "metadata": {},
   "outputs": [
    {
     "name": "stdout",
     "output_type": "stream",
     "text": [
      "              precision    recall  f1-score   support\n",
      "\n",
      "           0       0.95      0.93      0.94     67515\n",
      "           1       0.98      0.99      0.98    251836\n",
      "\n",
      "    accuracy                           0.97    319351\n",
      "   macro avg       0.96      0.96      0.96    319351\n",
      "weighted avg       0.97      0.97      0.97    319351\n",
      "\n"
     ]
    }
   ],
   "source": [
    "print(classification_report(y_test,y_pred))"
   ]
  },
  {
   "cell_type": "code",
   "execution_count": 135,
   "id": "identified-cyprus",
   "metadata": {},
   "outputs": [],
   "source": [
    "text1='congratulations! you won the match'\n",
    "vec=tfidf.transform([text1])"
   ]
  },
  {
   "cell_type": "code",
   "execution_count": 136,
   "id": "stylish-receptor",
   "metadata": {},
   "outputs": [
    {
     "data": {
      "text/plain": [
       "1"
      ]
     },
     "execution_count": 136,
     "metadata": {},
     "output_type": "execute_result"
    }
   ],
   "source": [
    "clf.predict(vec)[0]"
   ]
  },
  {
   "cell_type": "code",
   "execution_count": 137,
   "id": "vocal-bernard",
   "metadata": {},
   "outputs": [
    {
     "name": "stdout",
     "output_type": "stream",
     "text": [
      "I like it [ positive ]\n",
      "like it a lot [ positive ]\n",
      "It's really good [ positive ]\n",
      "recommend! [ positive ]\n",
      "Enjoyed! [ positive ]\n",
      "like it [ positive ]\n",
      "It's really good [ positive ]\n",
      "recommend too [ positive ]\n",
      "outstanding [ positive ]\n",
      "good [ positive ]\n",
      "recommend! [ positive ]\n",
      "like it a lot [ positive ]\n",
      "really good [ positive ]\n",
      "Definitely recommend! [ positive ]\n",
      "It is fun [ positive ]\n",
      "liked! [ positive ]\n",
      "highly recommend this [ positive ]\n",
      "fantastic show [ positive ]\n",
      "exciting [ positive ]\n",
      "Very good [ positive ]\n",
      "it's ok [ positive ]\n",
      "exciting show [ positive ]\n",
      "amazing performance [ positive ]\n",
      "it is great! [ positive ]\n",
      "I am excited a lot [ positive ]\n",
      "it is terrific [ positive ]\n",
      "Definitely good one [ positive ]\n",
      "very satisfied [ positive ]\n",
      "Glad we went [ positive ]\n",
      "Once again outstanding! [ positive ]\n",
      "awesome [ positive ]\n"
     ]
    }
   ],
   "source": [
    "for i in sentPositive:\n",
    "    text1=i\n",
    "    vec=tfidf.transform([text1])\n",
    "    if clf.predict(vec)[0]==1:\n",
    "        s='positive'\n",
    "    else:\n",
    "        s='negative'\n",
    "    print(i,'[',s,']')"
   ]
  },
  {
   "cell_type": "code",
   "execution_count": 138,
   "id": "major-brave",
   "metadata": {},
   "outputs": [
    {
     "name": "stdout",
     "output_type": "stream",
     "text": [
      "Not good at all! [ negative ]\n",
      "rude [ negative ]\n",
      "It is rude [ negative ]\n",
      "I don't like this type [ positive ]\n",
      "poor [ negative ]\n",
      "Boring [ negative ]\n",
      "Not good! [ negative ]\n",
      "not liked [ positive ]\n",
      "I hate this type of [ negative ]\n",
      "not recommend [ positive ]\n",
      "not satisfied [ positive ]\n",
      "not enjoyed [ positive ]\n",
      "Not recommend this. [ positive ]\n",
      "disgusting movie [ negative ]\n",
      "waste of time [ negative ]\n",
      "feel tired after watching this [ negative ]\n",
      "horrible performance [ negative ]\n",
      "not so good [ positive ]\n",
      "so boring I fell asleep [ negative ]\n",
      "poor show [ negative ]\n",
      "a bit strange [ negative ]\n",
      "terrible [ negative ]\n"
     ]
    }
   ],
   "source": [
    "for i in sentNegative:\n",
    "    text1=i\n",
    "    vec=tfidf.transform([text1])\n",
    "    if clf.predict(vec)[0]==1:\n",
    "        s='positive'\n",
    "    else:\n",
    "        s='negative'\n",
    "    print(i,'[',s,']')"
   ]
  },
  {
   "cell_type": "code",
   "execution_count": null,
   "id": "defined-haiti",
   "metadata": {},
   "outputs": [],
   "source": []
  }
 ],
 "metadata": {
  "kernelspec": {
   "display_name": "Python 3",
   "language": "python",
   "name": "python3"
  },
  "language_info": {
   "codemirror_mode": {
    "name": "ipython",
    "version": 3
   },
   "file_extension": ".py",
   "mimetype": "text/x-python",
   "name": "python",
   "nbconvert_exporter": "python",
   "pygments_lexer": "ipython3",
   "version": "3.9.2"
  }
 },
 "nbformat": 4,
 "nbformat_minor": 5
}
