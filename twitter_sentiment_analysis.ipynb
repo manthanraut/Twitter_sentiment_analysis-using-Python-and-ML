{
 "cells": [
  {
   "cell_type": "code",
   "execution_count": 1,
   "id": "hired-programming",
   "metadata": {},
   "outputs": [],
   "source": [
    "import pandas as pd\n",
    "import matplotlib.pyplot as plt\n",
    "import seaborn as sns\n",
    "import numpy as np\n",
    "import re\n",
    "import tweepy\n",
    "import nltk \n",
    "from nltk.stem import *\n",
    "from textblob import TextBlob"
   ]
  },
  {
   "cell_type": "code",
   "execution_count": 5,
   "id": "swiss-despite",
   "metadata": {},
   "outputs": [],
   "source": [
    "file =('twitter_dataset.csv')\n",
    "df = pd.read_csv('twitter_dataset.csv', encoding = 'latin', header=None)"
   ]
  },
  {
   "cell_type": "code",
   "execution_count": 6,
   "id": "anonymous-flesh",
   "metadata": {},
   "outputs": [
    {
     "data": {
      "text/html": [
       "<div>\n",
       "<style scoped>\n",
       "    .dataframe tbody tr th:only-of-type {\n",
       "        vertical-align: middle;\n",
       "    }\n",
       "\n",
       "    .dataframe tbody tr th {\n",
       "        vertical-align: top;\n",
       "    }\n",
       "\n",
       "    .dataframe thead th {\n",
       "        text-align: right;\n",
       "    }\n",
       "</style>\n",
       "<table border=\"1\" class=\"dataframe\">\n",
       "  <thead>\n",
       "    <tr style=\"text-align: right;\">\n",
       "      <th></th>\n",
       "      <th>0</th>\n",
       "      <th>1</th>\n",
       "      <th>2</th>\n",
       "      <th>3</th>\n",
       "      <th>4</th>\n",
       "      <th>5</th>\n",
       "    </tr>\n",
       "  </thead>\n",
       "  <tbody>\n",
       "    <tr>\n",
       "      <th>0</th>\n",
       "      <td>0</td>\n",
       "      <td>1467810369</td>\n",
       "      <td>Mon Apr 06 22:19:45 PDT 2009</td>\n",
       "      <td>NO_QUERY</td>\n",
       "      <td>_TheSpecialOne_</td>\n",
       "      <td>@switchfoot http://twitpic.com/2y1zl - Awww, t...</td>\n",
       "    </tr>\n",
       "    <tr>\n",
       "      <th>1</th>\n",
       "      <td>0</td>\n",
       "      <td>1467810672</td>\n",
       "      <td>Mon Apr 06 22:19:49 PDT 2009</td>\n",
       "      <td>NO_QUERY</td>\n",
       "      <td>scotthamilton</td>\n",
       "      <td>is upset that he can't update his Facebook by ...</td>\n",
       "    </tr>\n",
       "    <tr>\n",
       "      <th>2</th>\n",
       "      <td>0</td>\n",
       "      <td>1467810917</td>\n",
       "      <td>Mon Apr 06 22:19:53 PDT 2009</td>\n",
       "      <td>NO_QUERY</td>\n",
       "      <td>mattycus</td>\n",
       "      <td>@Kenichan I dived many times for the ball. Man...</td>\n",
       "    </tr>\n",
       "    <tr>\n",
       "      <th>3</th>\n",
       "      <td>0</td>\n",
       "      <td>1467811184</td>\n",
       "      <td>Mon Apr 06 22:19:57 PDT 2009</td>\n",
       "      <td>NO_QUERY</td>\n",
       "      <td>ElleCTF</td>\n",
       "      <td>my whole body feels itchy and like its on fire</td>\n",
       "    </tr>\n",
       "    <tr>\n",
       "      <th>4</th>\n",
       "      <td>0</td>\n",
       "      <td>1467811193</td>\n",
       "      <td>Mon Apr 06 22:19:57 PDT 2009</td>\n",
       "      <td>NO_QUERY</td>\n",
       "      <td>Karoli</td>\n",
       "      <td>@nationwideclass no, it's not behaving at all....</td>\n",
       "    </tr>\n",
       "  </tbody>\n",
       "</table>\n",
       "</div>"
      ],
      "text/plain": [
       "   0           1                             2         3                4  \\\n",
       "0  0  1467810369  Mon Apr 06 22:19:45 PDT 2009  NO_QUERY  _TheSpecialOne_   \n",
       "1  0  1467810672  Mon Apr 06 22:19:49 PDT 2009  NO_QUERY    scotthamilton   \n",
       "2  0  1467810917  Mon Apr 06 22:19:53 PDT 2009  NO_QUERY         mattycus   \n",
       "3  0  1467811184  Mon Apr 06 22:19:57 PDT 2009  NO_QUERY          ElleCTF   \n",
       "4  0  1467811193  Mon Apr 06 22:19:57 PDT 2009  NO_QUERY           Karoli   \n",
       "\n",
       "                                                   5  \n",
       "0  @switchfoot http://twitpic.com/2y1zl - Awww, t...  \n",
       "1  is upset that he can't update his Facebook by ...  \n",
       "2  @Kenichan I dived many times for the ball. Man...  \n",
       "3    my whole body feels itchy and like its on fire   \n",
       "4  @nationwideclass no, it's not behaving at all....  "
      ]
     },
     "execution_count": 6,
     "metadata": {},
     "output_type": "execute_result"
    }
   ],
   "source": [
    "df.head()"
   ]
  },
  {
   "cell_type": "code",
   "execution_count": 7,
   "id": "growing-rendering",
   "metadata": {},
   "outputs": [],
   "source": [
    "df = df.rename(columns={0: 'target', 1: 'id', 2: 'date', 3: 'query', 4: 'username', 5: 'content'})"
   ]
  },
  {
   "cell_type": "code",
   "execution_count": 8,
   "id": "prerequisite-baltimore",
   "metadata": {},
   "outputs": [
    {
     "name": "stdout",
     "output_type": "stream",
     "text": [
      " \n",
      "Total null values in this DataFrame : 0\n",
      "<class 'pandas.core.frame.DataFrame'>\n",
      "RangeIndex: 1600000 entries, 0 to 1599999\n",
      "Data columns (total 6 columns):\n",
      " #   Column    Non-Null Count    Dtype \n",
      "---  ------    --------------    ----- \n",
      " 0   target    1600000 non-null  int64 \n",
      " 1   id        1600000 non-null  int64 \n",
      " 2   date      1600000 non-null  object\n",
      " 3   query     1600000 non-null  object\n",
      " 4   username  1600000 non-null  object\n",
      " 5   content   1600000 non-null  object\n",
      "dtypes: int64(2), object(4)\n",
      "memory usage: 73.2+ MB\n"
     ]
    }
   ],
   "source": [
    "print(\" \\nTotal null values in this DataFrame :\",df.isnull().sum().sum())\n",
    "#df = df.dropna(how='any',axis=0)\n",
    "df.info()"
   ]
  },
  {
   "cell_type": "code",
   "execution_count": 6,
   "id": "greater-sherman",
   "metadata": {},
   "outputs": [],
   "source": [
    "#df=df.drop(['id','date','query','username'],axis=1)"
   ]
  },
  {
   "cell_type": "code",
   "execution_count": 7,
   "id": "unavailable-forwarding",
   "metadata": {},
   "outputs": [
    {
     "name": "stdout",
     "output_type": "stream",
     "text": [
      "<class 'pandas.core.frame.DataFrame'>\n",
      "RangeIndex: 1600000 entries, 0 to 1599999\n",
      "Data columns (total 6 columns):\n",
      " #   Column    Non-Null Count    Dtype \n",
      "---  ------    --------------    ----- \n",
      " 0   target    1600000 non-null  int64 \n",
      " 1   id        1600000 non-null  int64 \n",
      " 2   date      1600000 non-null  object\n",
      " 3   query     1600000 non-null  object\n",
      " 4   username  1600000 non-null  object\n",
      " 5   content   1600000 non-null  object\n",
      "dtypes: int64(2), object(4)\n",
      "memory usage: 73.2+ MB\n"
     ]
    }
   ],
   "source": [
    "df.head(10)\n",
    "df.info()"
   ]
  },
  {
   "cell_type": "code",
   "execution_count": 8,
   "id": "egyptian-expression",
   "metadata": {},
   "outputs": [
    {
     "data": {
      "text/plain": [
       "['awww that s a bummer you shoulda got david carr of third day to do it d',\n",
       " 'is upset that he can t update his facebook by texting it and might cry as a result school today also blah',\n",
       " 'i dived many times for the ball managed to save the rest go out of bounds',\n",
       " 'my whole body feels itchy and like its on fire',\n",
       " 'no it s not behaving at all i m mad why am i here because i can t see you all over there',\n",
       " 'not the whole crew',\n",
       " 'need a hug',\n",
       " 'hey long time no see yes rains a bit only a bit lol i m fine thanks how s you',\n",
       " 'k nope they didn t have it',\n",
       " 'que me muera',\n",
       " 'spring break in plain city it s snowing',\n",
       " 'i just re pierced my ears',\n",
       " 'i couldn t bear to watch it and i thought the ua loss was embarrassing',\n",
       " 'it it counts idk why i did either you never talk to me anymore',\n",
       " 'i would ve been the first but i didn t have a gun not really though zac snyder s just a doucheclown',\n",
       " 'i wish i got to watch it with you i miss you and how was the premiere',\n",
       " 'hollis death scene will hurt me severely to watch on film wry is directors cut not out now',\n",
       " 'about to file taxes',\n",
       " 'ahh ive always wanted to see rent love the soundtrack',\n",
       " 'oh dear were you drinking out of the forgotten table drinks',\n",
       " 'i was out most of the day so didn t get much done',\n",
       " 'one of my friend called me and asked to meet with her at mid valley today but i ve no time sigh',\n",
       " 'barista i baked you a cake but i ated it',\n",
       " 'this week is not going as i had hoped',\n",
       " 'blagh class at tomorrow',\n",
       " 'i hate when i have to call and wake people up',\n",
       " 'just going to cry myself to sleep after watching marley and me',\n",
       " 'im sad now miss lilly',\n",
       " 'ooooh lol that leslie and ok i won t do it again so leslie won t get mad again',\n",
       " 'meh almost lover is the exception this track gets me depressed every time',\n",
       " 'some hacked my account on aim now i have to make a new one',\n",
       " 'i want to go to promote gear and groove but unfornately no ride there i may b going to the one in anaheim in may though',\n",
       " 'thought sleeping in was an option tomorrow but realizing that it now is not evaluations in the morning and work in the afternoon',\n",
       " 'awe i love you too am here i miss you',\n",
       " 'i cry my asian eyes to sleep at night',\n",
       " 'ok i m sick and spent an hour sitting in the shower cause i was too sick to stand and held back the puke like a champ bed now',\n",
       " 'ill tell ya the story later not a good day and ill be workin for like three more hours',\n",
       " 'sorry bed time came here gmt',\n",
       " 'i don t either its depressing i don t think i even want to know about the kids in suitcases',\n",
       " 'bed class work gym or then class another day that s gonna fly by i miss my girlfriend',\n",
       " 'really don t feel like getting up today but got to study to for tomorrows practical exam',\n",
       " 'he s the reason for the teardrops on my guitar the only one who has enough of me to break my heart',\n",
       " 'sad sad sad i don t know why but i hate this feeling i wanna sleep and i still can t',\n",
       " 'awww i soo wish i was there to see you finally comfortable im sad that i missed it',\n",
       " 'falling asleep just heard about that tracy girl s body being found how sad my heart breaks for that family',\n",
       " 'yay i m happy for you with your job but that also means less time for me and you',\n",
       " 'just checked my user timeline on my blackberry it looks like the twanking is still happening are ppl still having probs w bgs and uids',\n",
       " 'oh man was ironing s fave top to wear to a meeting burnt it',\n",
       " 'is strangely sad about lilo and samro breaking up',\n",
       " 'oh i m so sorry i didn t think about that before retweeting',\n",
       " 'broadband plan a massive broken promise via www diigo com tautao still waiting for broadband we are',\n",
       " 'wow tons of replies from you may have to unfollow so i can see my friends tweets you re scrolling the feed a lot',\n",
       " 'our duck and chicken are taking wayyy too long to hatch',\n",
       " 'put vacation photos online a few yrs ago pc crashed and now i forget the name of the site',\n",
       " 'i need a hug',\n",
       " 'not sure what they are only that they are pos as much as i want to i dont think can trade away company assets sorry andy',\n",
       " 'i hate when that happens',\n",
       " 'i have a sad feeling that dallas is not going to show up i gotta say though you d think more shows would use music from the game mmm',\n",
       " 'ugh degrees tomorrow',\n",
       " 'where did u move to i thought u were already in sd hmmm random u found me glad to hear yer doing well',\n",
       " 'i miss my ps it s out of commission wutcha playing have you copped blood on the sand',\n",
       " 'just leaving the parking lot of work',\n",
       " 'the life is cool but not for me',\n",
       " 'sadly though i ve never gotten to experience the post coitus cigarette before and now i never will',\n",
       " 'i had such a nice day too bad the rain comes in tomorrow at am',\n",
       " 'too bad i won t be around i lost my job and can t even pay my phone bill lmao aw shucks',\n",
       " 'damm back to school tomorrow',\n",
       " 'mo jobs no money how in the hell is min wage here f n clams an hour',\n",
       " 'not forever see you soon',\n",
       " 'algonquin agreed i saw the failwhale allllll day today',\n",
       " 'oh haha dude i dont really look at em unless someone says hey i added you sorry i m so terrible at that i need a pop up',\n",
       " 'i m sure you re right i need to start working out with you and the nikster or jared at least',\n",
       " 'i really hate how people diss my bands trace is clearly not ugly',\n",
       " 'gym attire today was puma singlet adidas shorts and black business socks and leather shoes lucky did not run into any cute girls',\n",
       " 'why won t you show my location',\n",
       " 'no picnic my phone smells like citrus',\n",
       " 'my donkey is sensitive about such comments nevertheless he d and me d be glad to see your mug asap charger is still awol',\n",
       " 'no new csi tonight fml',\n",
       " 'i think my arms are sore from tennis',\n",
       " 'wonders why someone that u like so much can make you so unhappy in a split seccond depressed',\n",
       " 'sleep soon i just hate saying bye and see you tomorrow for the night',\n",
       " 'just got ur newsletter those fares really are unbelievable shame i already booked and paid for mine',\n",
       " 'missin the boo',\n",
       " 'me too itm',\n",
       " 'damn i don t have any chalk my chalkboard is useless',\n",
       " 'had a blast at the getty villa but hates that she s had a sore throat all day it s just getting worse too',\n",
       " 'hey missed ya at the meeting sup mama',\n",
       " 'my tummy hurts i wonder if the hypnosis has anything to do with it if so it s working i get it stop smoking',\n",
       " 'why is it always the fat ones',\n",
       " 'sorry babe my fam annoys me too thankfully they re asleep right now muahaha evil laugh',\n",
       " 'i should have paid more attention when we covered photoshop in my webpage design class in undergrad',\n",
       " 'wednesday my b day don t know what do',\n",
       " 'poor cameron the hills',\n",
       " 'pray for me please the ex is threatening to start sh at my our babies st birthday party what a jerk and i still have a headache',\n",
       " 'hmm do u really enjoy being with him if the problems are too constants u should think things more find someone ulike',\n",
       " 'strider is a sick little puppy',\n",
       " 'so rylee grace wana go steve s party or not sadly since its easter i wnt b able do much but ohh well',\n",
       " 'hey i actually won one of my bracket pools too bad it wasn t the one for money',\n",
       " 'you don t follow me either and i work for you',\n",
       " 'a bad nite for the favorite teams astros and spartans lose the nite out with t w was good']"
      ]
     },
     "execution_count": 8,
     "metadata": {},
     "output_type": "execute_result"
    }
   ],
   "source": [
    "from nltk.tokenize import WordPunctTokenizer\n",
    "from bs4 import BeautifulSoup \n",
    "import re\n",
    "tok = WordPunctTokenizer()\n",
    "pat1 = r'@[A-Za-z0-9]+'\n",
    "pat2 = r'https?://[A-Za-z0-9./]+'\n",
    "combined_pat = r'|'.join((pat1, pat2))\n",
    "def tweet_cleaner(text):\n",
    "    soup = BeautifulSoup(text, 'lxml')\n",
    "    souped = soup.get_text()\n",
    "    stripped = re.sub(combined_pat, '', souped)\n",
    "    try:\n",
    "        clean = stripped.decode(\"utf-8-sig\").replace(u\"\\ufffd\", \"?\")\n",
    "    except:\n",
    "        clean = stripped\n",
    "    letters_only = re.sub(\"[^a-zA-Z]\", \" \", clean)\n",
    "    lower_case = letters_only.lower()\n",
    "    # During the letters_only process two lines above, it has created unnecessay white spaces,\n",
    "    # I will tokenize and join together to remove unneccessary white spaces\n",
    "    words = tok.tokenize(lower_case)\n",
    "    return (\" \".join(words)).strip()\n",
    "testing = df.content[:100]\n",
    "test_result = []\n",
    "for t in testing:\n",
    "    test_result.append(tweet_cleaner(t))\n",
    "test_result"
   ]
  },
  {
   "cell_type": "code",
   "execution_count": 126,
   "id": "removable-halloween",
   "metadata": {},
   "outputs": [
    {
     "name": "stdout",
     "output_type": "stream",
     "text": [
      "Cleaning and parsing the tweets...\n",
      "\n"
     ]
    },
    {
     "ename": "NameError",
     "evalue": "name 'clean_tweet_texts' is not defined",
     "output_type": "error",
     "traceback": [
      "\u001b[1;31m---------------------------------------------------------------------------\u001b[0m",
      "\u001b[1;31mNameError\u001b[0m                                 Traceback (most recent call last)",
      "\u001b[1;32m<ipython-input-126-1edae414e58c>\u001b[0m in \u001b[0;36m<module>\u001b[1;34m\u001b[0m\n\u001b[0;32m      5\u001b[0m     \u001b[1;32mif\u001b[0m\u001b[1;33m(\u001b[0m \u001b[1;33m(\u001b[0m\u001b[0mi\u001b[0m\u001b[1;33m+\u001b[0m\u001b[1;36m1\u001b[0m\u001b[1;33m)\u001b[0m\u001b[1;33m%\u001b[0m\u001b[1;36m10000\u001b[0m \u001b[1;33m==\u001b[0m \u001b[1;36m0\u001b[0m \u001b[1;33m)\u001b[0m\u001b[1;33m:\u001b[0m\u001b[1;33m\u001b[0m\u001b[1;33m\u001b[0m\u001b[0m\n\u001b[0;32m      6\u001b[0m         \u001b[0mprint\u001b[0m\u001b[1;33m(\u001b[0m\u001b[1;34m\"Tweets %d of %d has been processed\"\u001b[0m \u001b[1;33m%\u001b[0m \u001b[1;33m(\u001b[0m \u001b[0mi\u001b[0m\u001b[1;33m+\u001b[0m\u001b[1;36m1\u001b[0m\u001b[1;33m,\u001b[0m \u001b[0mnums\u001b[0m\u001b[1;33m[\u001b[0m\u001b[1;36m4\u001b[0m\u001b[1;33m]\u001b[0m \u001b[1;33m)\u001b[0m\u001b[1;33m)\u001b[0m\u001b[1;33m\u001b[0m\u001b[1;33m\u001b[0m\u001b[0m\n\u001b[1;32m----> 7\u001b[1;33m     \u001b[0mclean_tweet_texts\u001b[0m\u001b[1;33m.\u001b[0m\u001b[0mappend\u001b[0m\u001b[1;33m(\u001b[0m\u001b[0mtweet_cleaner\u001b[0m\u001b[1;33m(\u001b[0m\u001b[0mdf\u001b[0m\u001b[1;33m[\u001b[0m\u001b[1;34m'content'\u001b[0m\u001b[1;33m]\u001b[0m\u001b[1;33m[\u001b[0m\u001b[0mi\u001b[0m\u001b[1;33m]\u001b[0m\u001b[1;33m)\u001b[0m\u001b[1;33m)\u001b[0m\u001b[1;33m\u001b[0m\u001b[1;33m\u001b[0m\u001b[0m\n\u001b[0m",
      "\u001b[1;31mNameError\u001b[0m: name 'clean_tweet_texts' is not defined"
     ]
    }
   ],
   "source": [
    "nums = [0,400001,800001,1200001,1600000]\n",
    "print(\"Cleaning and parsing the tweets...\\n\")\n",
    "#clean_tweet_texts = []\n",
    "for i in range(nums[3],nums[4]):\n",
    "    if( (i+1)%10000 == 0 ):\n",
    "        print(\"Tweets %d of %d has been processed\" % ( i+1, nums[4] ))                                                                    \n",
    "    clean_tweet_texts.append(tweet_cleaner(df['content'][i]))"
   ]
  },
  {
   "cell_type": "code",
   "execution_count": 9,
   "id": "alien-leave",
   "metadata": {},
   "outputs": [
    {
     "ename": "NameError",
     "evalue": "name 'clean_tweet_texts' is not defined",
     "output_type": "error",
     "traceback": [
      "\u001b[1;31m---------------------------------------------------------------------------\u001b[0m",
      "\u001b[1;31mNameError\u001b[0m                                 Traceback (most recent call last)",
      "\u001b[1;32m<ipython-input-9-710caa32661c>\u001b[0m in \u001b[0;36m<module>\u001b[1;34m\u001b[0m\n\u001b[1;32m----> 1\u001b[1;33m \u001b[0mclean_df\u001b[0m \u001b[1;33m=\u001b[0m \u001b[0mpd\u001b[0m\u001b[1;33m.\u001b[0m\u001b[0mDataFrame\u001b[0m\u001b[1;33m(\u001b[0m\u001b[0mclean_tweet_texts\u001b[0m\u001b[1;33m,\u001b[0m\u001b[0mcolumns\u001b[0m\u001b[1;33m=\u001b[0m\u001b[1;33m[\u001b[0m\u001b[1;34m'text'\u001b[0m\u001b[1;33m]\u001b[0m\u001b[1;33m)\u001b[0m\u001b[1;33m\u001b[0m\u001b[1;33m\u001b[0m\u001b[0m\n\u001b[0m\u001b[0;32m      2\u001b[0m \u001b[0mclean_df\u001b[0m\u001b[1;33m[\u001b[0m\u001b[1;34m'target'\u001b[0m\u001b[1;33m]\u001b[0m \u001b[1;33m=\u001b[0m \u001b[0mdf\u001b[0m\u001b[1;33m.\u001b[0m\u001b[0mtarget\u001b[0m\u001b[1;33m\u001b[0m\u001b[1;33m\u001b[0m\u001b[0m\n\u001b[0;32m      3\u001b[0m \u001b[0mclean_df\u001b[0m\u001b[1;33m.\u001b[0m\u001b[0mhead\u001b[0m\u001b[1;33m(\u001b[0m\u001b[1;33m)\u001b[0m\u001b[1;33m\u001b[0m\u001b[1;33m\u001b[0m\u001b[0m\n",
      "\u001b[1;31mNameError\u001b[0m: name 'clean_tweet_texts' is not defined"
     ]
    }
   ],
   "source": [
    "clean_df = pd.DataFrame(clean_tweet_texts,columns=['text'])\n",
    "clean_df['target'] = df.target\n",
    "clean_df.head()"
   ]
  },
  {
   "cell_type": "code",
   "execution_count": 19,
   "id": "incredible-cisco",
   "metadata": {},
   "outputs": [
    {
     "name": "stdout",
     "output_type": "stream",
     "text": [
      "<class 'pandas.core.frame.DataFrame'>\n",
      "Int64Index: 1599997 entries, 0 to 1599996\n",
      "Data columns (total 2 columns):\n",
      " #   Column  Non-Null Count    Dtype \n",
      "---  ------  --------------    ----- \n",
      " 0   text    1596750 non-null  object\n",
      " 1   target  1599997 non-null  int64 \n",
      "dtypes: int64(1), object(1)\n",
      "memory usage: 36.6+ MB\n"
     ]
    },
    {
     "data": {
      "text/html": [
       "<div>\n",
       "<style scoped>\n",
       "    .dataframe tbody tr th:only-of-type {\n",
       "        vertical-align: middle;\n",
       "    }\n",
       "\n",
       "    .dataframe tbody tr th {\n",
       "        vertical-align: top;\n",
       "    }\n",
       "\n",
       "    .dataframe thead th {\n",
       "        text-align: right;\n",
       "    }\n",
       "</style>\n",
       "<table border=\"1\" class=\"dataframe\">\n",
       "  <thead>\n",
       "    <tr style=\"text-align: right;\">\n",
       "      <th></th>\n",
       "      <th>text</th>\n",
       "      <th>target</th>\n",
       "    </tr>\n",
       "  </thead>\n",
       "  <tbody>\n",
       "    <tr>\n",
       "      <th>0</th>\n",
       "      <td>awww that s a bummer you shoulda got david carr of third day to do it d</td>\n",
       "      <td>0</td>\n",
       "    </tr>\n",
       "    <tr>\n",
       "      <th>1</th>\n",
       "      <td>is upset that he can t update his facebook by texting it and might cry as a result school today also blah</td>\n",
       "      <td>0</td>\n",
       "    </tr>\n",
       "    <tr>\n",
       "      <th>2</th>\n",
       "      <td>i dived many times for the ball managed to save the rest go out of bounds</td>\n",
       "      <td>0</td>\n",
       "    </tr>\n",
       "    <tr>\n",
       "      <th>3</th>\n",
       "      <td>my whole body feels itchy and like its on fire</td>\n",
       "      <td>0</td>\n",
       "    </tr>\n",
       "    <tr>\n",
       "      <th>4</th>\n",
       "      <td>no it s not behaving at all i m mad why am i here because i can t see you all over there</td>\n",
       "      <td>0</td>\n",
       "    </tr>\n",
       "  </tbody>\n",
       "</table>\n",
       "</div>"
      ],
      "text/plain": [
       "                                                                                                        text  \\\n",
       "0  awww that s a bummer you shoulda got david carr of third day to do it d                                     \n",
       "1  is upset that he can t update his facebook by texting it and might cry as a result school today also blah   \n",
       "2  i dived many times for the ball managed to save the rest go out of bounds                                   \n",
       "3  my whole body feels itchy and like its on fire                                                              \n",
       "4  no it s not behaving at all i m mad why am i here because i can t see you all over there                    \n",
       "\n",
       "   target  \n",
       "0  0       \n",
       "1  0       \n",
       "2  0       \n",
       "3  0       \n",
       "4  0       "
      ]
     },
     "execution_count": 19,
     "metadata": {},
     "output_type": "execute_result"
    }
   ],
   "source": [
    "#clean_df.to_csv('clean_tweet.csv',encoding='utf-8')\n",
    "csv = 'clean_tweet.csv'\n",
    "my_df = pd.read_csv(csv,index_col=0)\n",
    "my_df.info()\n",
    "data=my_df\n",
    "data.head()"
   ]
  },
  {
   "cell_type": "code",
   "execution_count": null,
   "id": "outstanding-travel",
   "metadata": {},
   "outputs": [],
   "source": []
  },
  {
   "cell_type": "code",
   "execution_count": 32,
   "id": "rolled-suggestion",
   "metadata": {},
   "outputs": [
    {
     "data": {
      "text/plain": [
       "array([0, 4], dtype=int64)"
      ]
     },
     "execution_count": 32,
     "metadata": {},
     "output_type": "execute_result"
    }
   ],
   "source": [
    "data.target.unique()\n",
    "#unique values are 0 and 4 in category column which can be used for classifying positive and negative tweets"
   ]
  },
  {
   "cell_type": "code",
   "execution_count": 33,
   "id": "northern-horizontal",
   "metadata": {},
   "outputs": [
    {
     "name": "stderr",
     "output_type": "stream",
     "text": [
      "<ipython-input-33-289ff6b83c67>:1: FutureWarning: Passing a negative integer is deprecated in version 1.0 and will not be supported in future version. Instead, use None to not limit the column width.\n",
      "  pd.set_option('display.max_colwidth', -1)\n"
     ]
    },
    {
     "data": {
      "text/plain": [
       "0    awww that s a bummer you shoulda got david carr of third day to do it d                                  \n",
       "1    is upset that he can t update his facebook by texting it and might cry as a result school today also blah\n",
       "2    i dived many times for the ball managed to save the rest go out of bounds                                \n",
       "3    my whole body feels itchy and like its on fire                                                           \n",
       "4    no it s not behaving at all i m mad why am i here because i can t see you all over there                 \n",
       "Name: text, dtype: object"
      ]
     },
     "execution_count": 33,
     "metadata": {},
     "output_type": "execute_result"
    }
   ],
   "source": [
    "pd.set_option('display.max_colwidth', -1)\n",
    "data[data['target']==0]['text'].head()\n",
    "#class 0 refers to negative tweets"
   ]
  },
  {
   "cell_type": "code",
   "execution_count": 22,
   "id": "realistic-running",
   "metadata": {},
   "outputs": [
    {
     "ename": "KeyError",
     "evalue": "'target'",
     "output_type": "error",
     "traceback": [
      "\u001b[1;31m---------------------------------------------------------------------------\u001b[0m",
      "\u001b[1;31mKeyError\u001b[0m                                  Traceback (most recent call last)",
      "\u001b[1;32mc:\\users\\manth\\appdata\\local\\programs\\python\\python39\\lib\\site-packages\\pandas\\core\\indexes\\base.py\u001b[0m in \u001b[0;36mget_loc\u001b[1;34m(self, key, method, tolerance)\u001b[0m\n\u001b[0;32m   3079\u001b[0m             \u001b[1;32mtry\u001b[0m\u001b[1;33m:\u001b[0m\u001b[1;33m\u001b[0m\u001b[1;33m\u001b[0m\u001b[0m\n\u001b[1;32m-> 3080\u001b[1;33m                 \u001b[1;32mreturn\u001b[0m \u001b[0mself\u001b[0m\u001b[1;33m.\u001b[0m\u001b[0m_engine\u001b[0m\u001b[1;33m.\u001b[0m\u001b[0mget_loc\u001b[0m\u001b[1;33m(\u001b[0m\u001b[0mcasted_key\u001b[0m\u001b[1;33m)\u001b[0m\u001b[1;33m\u001b[0m\u001b[1;33m\u001b[0m\u001b[0m\n\u001b[0m\u001b[0;32m   3081\u001b[0m             \u001b[1;32mexcept\u001b[0m \u001b[0mKeyError\u001b[0m \u001b[1;32mas\u001b[0m \u001b[0merr\u001b[0m\u001b[1;33m:\u001b[0m\u001b[1;33m\u001b[0m\u001b[1;33m\u001b[0m\u001b[0m\n",
      "\u001b[1;32mpandas\\_libs\\index.pyx\u001b[0m in \u001b[0;36mpandas._libs.index.IndexEngine.get_loc\u001b[1;34m()\u001b[0m\n",
      "\u001b[1;32mpandas\\_libs\\index.pyx\u001b[0m in \u001b[0;36mpandas._libs.index.IndexEngine.get_loc\u001b[1;34m()\u001b[0m\n",
      "\u001b[1;32mpandas\\_libs\\hashtable_class_helper.pxi\u001b[0m in \u001b[0;36mpandas._libs.hashtable.PyObjectHashTable.get_item\u001b[1;34m()\u001b[0m\n",
      "\u001b[1;32mpandas\\_libs\\hashtable_class_helper.pxi\u001b[0m in \u001b[0;36mpandas._libs.hashtable.PyObjectHashTable.get_item\u001b[1;34m()\u001b[0m\n",
      "\u001b[1;31mKeyError\u001b[0m: 'target'",
      "\nThe above exception was the direct cause of the following exception:\n",
      "\u001b[1;31mKeyError\u001b[0m                                  Traceback (most recent call last)",
      "\u001b[1;32m<ipython-input-22-cc882844c517>\u001b[0m in \u001b[0;36m<module>\u001b[1;34m\u001b[0m\n\u001b[1;32m----> 1\u001b[1;33m \u001b[0mdata\u001b[0m\u001b[1;33m[\u001b[0m\u001b[0mdata\u001b[0m\u001b[1;33m[\u001b[0m\u001b[1;34m'target'\u001b[0m\u001b[1;33m]\u001b[0m\u001b[1;33m==\u001b[0m\u001b[1;36m4\u001b[0m\u001b[1;33m]\u001b[0m\u001b[1;33m[\u001b[0m\u001b[1;34m'text'\u001b[0m\u001b[1;33m]\u001b[0m\u001b[1;33m.\u001b[0m\u001b[0mhead\u001b[0m\u001b[1;33m(\u001b[0m\u001b[1;33m)\u001b[0m\u001b[1;33m\u001b[0m\u001b[1;33m\u001b[0m\u001b[0m\n\u001b[0m\u001b[0;32m      2\u001b[0m \u001b[1;31m#class 4 refers to positive tweets\u001b[0m\u001b[1;33m\u001b[0m\u001b[1;33m\u001b[0m\u001b[1;33m\u001b[0m\u001b[0m\n",
      "\u001b[1;32mc:\\users\\manth\\appdata\\local\\programs\\python\\python39\\lib\\site-packages\\pandas\\core\\frame.py\u001b[0m in \u001b[0;36m__getitem__\u001b[1;34m(self, key)\u001b[0m\n\u001b[0;32m   3022\u001b[0m             \u001b[1;32mif\u001b[0m \u001b[0mself\u001b[0m\u001b[1;33m.\u001b[0m\u001b[0mcolumns\u001b[0m\u001b[1;33m.\u001b[0m\u001b[0mnlevels\u001b[0m \u001b[1;33m>\u001b[0m \u001b[1;36m1\u001b[0m\u001b[1;33m:\u001b[0m\u001b[1;33m\u001b[0m\u001b[1;33m\u001b[0m\u001b[0m\n\u001b[0;32m   3023\u001b[0m                 \u001b[1;32mreturn\u001b[0m \u001b[0mself\u001b[0m\u001b[1;33m.\u001b[0m\u001b[0m_getitem_multilevel\u001b[0m\u001b[1;33m(\u001b[0m\u001b[0mkey\u001b[0m\u001b[1;33m)\u001b[0m\u001b[1;33m\u001b[0m\u001b[1;33m\u001b[0m\u001b[0m\n\u001b[1;32m-> 3024\u001b[1;33m             \u001b[0mindexer\u001b[0m \u001b[1;33m=\u001b[0m \u001b[0mself\u001b[0m\u001b[1;33m.\u001b[0m\u001b[0mcolumns\u001b[0m\u001b[1;33m.\u001b[0m\u001b[0mget_loc\u001b[0m\u001b[1;33m(\u001b[0m\u001b[0mkey\u001b[0m\u001b[1;33m)\u001b[0m\u001b[1;33m\u001b[0m\u001b[1;33m\u001b[0m\u001b[0m\n\u001b[0m\u001b[0;32m   3025\u001b[0m             \u001b[1;32mif\u001b[0m \u001b[0mis_integer\u001b[0m\u001b[1;33m(\u001b[0m\u001b[0mindexer\u001b[0m\u001b[1;33m)\u001b[0m\u001b[1;33m:\u001b[0m\u001b[1;33m\u001b[0m\u001b[1;33m\u001b[0m\u001b[0m\n\u001b[0;32m   3026\u001b[0m                 \u001b[0mindexer\u001b[0m \u001b[1;33m=\u001b[0m \u001b[1;33m[\u001b[0m\u001b[0mindexer\u001b[0m\u001b[1;33m]\u001b[0m\u001b[1;33m\u001b[0m\u001b[1;33m\u001b[0m\u001b[0m\n",
      "\u001b[1;32mc:\\users\\manth\\appdata\\local\\programs\\python\\python39\\lib\\site-packages\\pandas\\core\\indexes\\base.py\u001b[0m in \u001b[0;36mget_loc\u001b[1;34m(self, key, method, tolerance)\u001b[0m\n\u001b[0;32m   3080\u001b[0m                 \u001b[1;32mreturn\u001b[0m \u001b[0mself\u001b[0m\u001b[1;33m.\u001b[0m\u001b[0m_engine\u001b[0m\u001b[1;33m.\u001b[0m\u001b[0mget_loc\u001b[0m\u001b[1;33m(\u001b[0m\u001b[0mcasted_key\u001b[0m\u001b[1;33m)\u001b[0m\u001b[1;33m\u001b[0m\u001b[1;33m\u001b[0m\u001b[0m\n\u001b[0;32m   3081\u001b[0m             \u001b[1;32mexcept\u001b[0m \u001b[0mKeyError\u001b[0m \u001b[1;32mas\u001b[0m \u001b[0merr\u001b[0m\u001b[1;33m:\u001b[0m\u001b[1;33m\u001b[0m\u001b[1;33m\u001b[0m\u001b[0m\n\u001b[1;32m-> 3082\u001b[1;33m                 \u001b[1;32mraise\u001b[0m \u001b[0mKeyError\u001b[0m\u001b[1;33m(\u001b[0m\u001b[0mkey\u001b[0m\u001b[1;33m)\u001b[0m \u001b[1;32mfrom\u001b[0m \u001b[0merr\u001b[0m\u001b[1;33m\u001b[0m\u001b[1;33m\u001b[0m\u001b[0m\n\u001b[0m\u001b[0;32m   3083\u001b[0m \u001b[1;33m\u001b[0m\u001b[0m\n\u001b[0;32m   3084\u001b[0m         \u001b[1;32mif\u001b[0m \u001b[0mtolerance\u001b[0m \u001b[1;32mis\u001b[0m \u001b[1;32mnot\u001b[0m \u001b[1;32mNone\u001b[0m\u001b[1;33m:\u001b[0m\u001b[1;33m\u001b[0m\u001b[1;33m\u001b[0m\u001b[0m\n",
      "\u001b[1;31mKeyError\u001b[0m: 'target'"
     ]
    }
   ],
   "source": [
    "data[data['target']==4]['text'].head()\n",
    "#class 4 refers to positive tweets"
   ]
  },
  {
   "cell_type": "code",
   "execution_count": 35,
   "id": "sound-phenomenon",
   "metadata": {},
   "outputs": [],
   "source": [
    "data['target'] = data['target'].replace([0, 4],['Negative','Positive'])\n",
    "#Changing labels from 0 and 4 for more informative labels for further analysis"
   ]
  },
  {
   "cell_type": "code",
   "execution_count": 36,
   "id": "random-parallel",
   "metadata": {},
   "outputs": [
    {
     "data": {
      "text/html": [
       "<div>\n",
       "<style scoped>\n",
       "    .dataframe tbody tr th:only-of-type {\n",
       "        vertical-align: middle;\n",
       "    }\n",
       "\n",
       "    .dataframe tbody tr th {\n",
       "        vertical-align: top;\n",
       "    }\n",
       "\n",
       "    .dataframe thead th {\n",
       "        text-align: right;\n",
       "    }\n",
       "</style>\n",
       "<table border=\"1\" class=\"dataframe\">\n",
       "  <thead>\n",
       "    <tr style=\"text-align: right;\">\n",
       "      <th></th>\n",
       "      <th>text</th>\n",
       "      <th>target</th>\n",
       "    </tr>\n",
       "  </thead>\n",
       "  <tbody>\n",
       "    <tr>\n",
       "      <th>0</th>\n",
       "      <td>awww that s a bummer you shoulda got david carr of third day to do it d</td>\n",
       "      <td>Negative</td>\n",
       "    </tr>\n",
       "    <tr>\n",
       "      <th>1</th>\n",
       "      <td>is upset that he can t update his facebook by texting it and might cry as a result school today also blah</td>\n",
       "      <td>Negative</td>\n",
       "    </tr>\n",
       "    <tr>\n",
       "      <th>2</th>\n",
       "      <td>i dived many times for the ball managed to save the rest go out of bounds</td>\n",
       "      <td>Negative</td>\n",
       "    </tr>\n",
       "    <tr>\n",
       "      <th>3</th>\n",
       "      <td>my whole body feels itchy and like its on fire</td>\n",
       "      <td>Negative</td>\n",
       "    </tr>\n",
       "    <tr>\n",
       "      <th>4</th>\n",
       "      <td>no it s not behaving at all i m mad why am i here because i can t see you all over there</td>\n",
       "      <td>Negative</td>\n",
       "    </tr>\n",
       "  </tbody>\n",
       "</table>\n",
       "</div>"
      ],
      "text/plain": [
       "                                                                                                        text  \\\n",
       "0  awww that s a bummer you shoulda got david carr of third day to do it d                                     \n",
       "1  is upset that he can t update his facebook by texting it and might cry as a result school today also blah   \n",
       "2  i dived many times for the ball managed to save the rest go out of bounds                                   \n",
       "3  my whole body feels itchy and like its on fire                                                              \n",
       "4  no it s not behaving at all i m mad why am i here because i can t see you all over there                    \n",
       "\n",
       "     target  \n",
       "0  Negative  \n",
       "1  Negative  \n",
       "2  Negative  \n",
       "3  Negative  \n",
       "4  Negative  "
      ]
     },
     "execution_count": 36,
     "metadata": {},
     "output_type": "execute_result"
    }
   ],
   "source": [
    "data.head()"
   ]
  },
  {
   "cell_type": "code",
   "execution_count": 40,
   "id": "violent-jefferson",
   "metadata": {},
   "outputs": [
    {
     "data": {
      "image/png": "[encoded data removed]",
      "text/plain": [
       "<Figure size 576x576 with 1 Axes>"
      ]
     },
     "metadata": {},
     "output_type": "display_data"
    }
   ],
   "source": [
    "fig = plt.figure(figsize=(8,8))\n",
    "targets = data.groupby('target').size()\n",
    "targets.plot(kind='pie', subplots=True, figsize=(10, 8), autopct = \"%.2f%%\", colors=['red','green'])\n",
    "plt.title(\"Pie chart of different classes of tweets\",fontsize=16)\n",
    "plt.ylabel(\"\")\n",
    "plt.legend()\n",
    "plt.show()\n",
    "#plotting a pie chart for descriptive analysis"
   ]
  },
  {
   "cell_type": "code",
   "execution_count": 93,
   "id": "mathematical-local",
   "metadata": {},
   "outputs": [],
   "source": [
    "data = data.dropna(axis = 0, how ='any')"
   ]
  },
  {
   "cell_type": "code",
   "execution_count": 95,
   "id": "usual-dinner",
   "metadata": {},
   "outputs": [
    {
     "name": "stdout",
     "output_type": "stream",
     "text": [
      "1596750\n"
     ]
    }
   ],
   "source": [
    "print(len(data.text))\n",
    "score=[]"
   ]
  },
  {
   "cell_type": "code",
   "execution_count": 105,
   "id": "beautiful-treasure",
   "metadata": {},
   "outputs": [
    {
     "name": "stdout",
     "output_type": "stream",
     "text": [
      "Done\n"
     ]
    },
    {
     "data": {
      "text/plain": [
       "\"\\nif analysis.sentiment.polarity > 0:\\n            return 'positive'\\n        elif analysis.sentiment.polarity == 0:\\n            return 'neutral'\\n        else:\\n            return 'negative'\\n\""
      ]
     },
     "execution_count": 105,
     "metadata": {},
     "output_type": "execute_result"
    }
   ],
   "source": [
    "'''\n",
    "count=0\n",
    "tweets_list=data.text[0:400000]\n",
    "for i in tweets_list:\n",
    "    print(count)\n",
    "    count+=1\n",
    "    analysis = TextBlob(i)\n",
    "    #print(analysis.sentiment.polarity)\n",
    "'''\n",
    "nums = [0,400000,800000,1200000,1599998]\n",
    "#sentiment_score = []\n",
    "tweets_list=data.text[nums[3]:nums[4]]\n",
    "for i in tweets_list:\n",
    "    analysis = TextBlob(i)\n",
    "    score.append(analysis.sentiment.polarity)\n",
    "print(\"Done\")\n",
    "\n",
    "'''\n",
    "if analysis.sentiment.polarity > 0:\n",
    "            return 'positive'\n",
    "        elif analysis.sentiment.polarity == 0:\n",
    "            return 'neutral'\n",
    "        else:\n",
    "            return 'negative'\n",
    "'''"
   ]
  },
  {
   "cell_type": "code",
   "execution_count": 107,
   "id": "solid-livestock",
   "metadata": {},
   "outputs": [],
   "source": [
    "detected_sentiment=[]"
   ]
  },
  {
   "cell_type": "code",
   "execution_count": 116,
   "id": "average-restriction",
   "metadata": {},
   "outputs": [
    {
     "name": "stdout",
     "output_type": "stream",
     "text": [
      "done\n",
      "1596750\n"
     ]
    }
   ],
   "source": [
    "scores_list=score[nums[3]:nums[4]]\n",
    "for i in scores_list:\n",
    "    if i > 0:\n",
    "        detected_sentiment.append('positive')\n",
    "    elif i == 0:\n",
    "        detected_sentiment.append('neutral')\n",
    "    else:\n",
    "        detected_sentiment.append('negative')\n",
    "print(\"done\")\n",
    "print(len(detected_sentiment))"
   ]
  },
  {
   "cell_type": "code",
   "execution_count": 118,
   "id": "chubby-robertson",
   "metadata": {},
   "outputs": [
    {
     "name": "stdout",
     "output_type": "stream",
     "text": [
      "1596750\n",
      "1596750\n",
      "1596750\n",
      "1596750\n"
     ]
    }
   ],
   "source": [
    "print(len(data.text))\n",
    "print(len(score))\n",
    "print(len(data))\n",
    "print(len(detected_sentiment))"
   ]
  },
  {
   "cell_type": "code",
   "execution_count": 2,
   "id": "valuable-ethnic",
   "metadata": {},
   "outputs": [
    {
     "name": "stderr",
     "output_type": "stream",
     "text": [
      "c:\\users\\manth\\appdata\\local\\programs\\python\\python39\\lib\\site-packages\\numpy\\lib\\arraysetops.py:583: FutureWarning: elementwise comparison failed; returning scalar instead, but in the future will perform elementwise comparison\n",
      "  mask |= (ar1 == a)\n"
     ]
    },
    {
     "name": "stdout",
     "output_type": "stream",
     "text": [
      "<class 'pandas.core.frame.DataFrame'>\n",
      "Int64Index: 1596750 entries, 0 to 1599996\n",
      "Data columns (total 4 columns):\n",
      " #   Column           Non-Null Count    Dtype  \n",
      "---  ------           --------------    -----  \n",
      " 0   text             1596750 non-null  object \n",
      " 1   actual           1596750 non-null  object \n",
      " 2   sentiment_score  1596750 non-null  float64\n",
      " 3   detected         1596750 non-null  object \n",
      "dtypes: float64(1), object(3)\n",
      "memory usage: 60.9+ MB\n"
     ]
    }
   ],
   "source": [
    "'''\n",
    "new_df = pd.DataFrame(data.text,columns=['text'])\n",
    "new_df['actual'] = data.target\n",
    "new_df['sentiment_score'] = score\n",
    "new_df['detected'] = detected_sentiment\n",
    "new_df.to_csv('classified_tweets.csv',encoding='utf-8')\n",
    "'''\n",
    "csv = 'classified_tweets.csv'\n",
    "my_df = pd.read_csv(csv,index_col=0)\n",
    "data=my_df\n",
    "data.info()"
   ]
  },
  {
   "cell_type": "code",
   "execution_count": 129,
   "id": "black-promise",
   "metadata": {},
   "outputs": [
    {
     "data": {
      "text/plain": [
       "positive    702838\n",
       "neutral     557565\n",
       "negative    336347\n",
       "Name: detected, dtype: int64"
      ]
     },
     "execution_count": 129,
     "metadata": {},
     "output_type": "execute_result"
    }
   ],
   "source": [
    "data.head()\n",
    "data['detected'].value_counts()"
   ]
  },
  {
   "cell_type": "code",
   "execution_count": 130,
   "id": "continental-george",
   "metadata": {},
   "outputs": [
    {
     "data": {
      "text/plain": [
       "count    1.596750e+06\n",
       "mean     9.541325e-02\n",
       "std      3.302594e-01\n",
       "min     -1.000000e+00\n",
       "25%      0.000000e+00\n",
       "50%      0.000000e+00\n",
       "75%      2.857143e-01\n",
       "max      1.000000e+00\n",
       "Name: sentiment_score, dtype: float64"
      ]
     },
     "execution_count": 130,
     "metadata": {},
     "output_type": "execute_result"
    }
   ],
   "source": [
    "data['sentiment_score'].describe()"
   ]
  },
  {
   "cell_type": "code",
   "execution_count": 133,
   "id": "reduced-rebel",
   "metadata": {},
   "outputs": [],
   "source": [
    "positive_tweets_list=data[data['detected']=='positive']\n",
    "neutral_tweets_list=data[data['detected']=='neutral']\n",
    "negative_tweets_list=data[data['detected']=='negative']"
   ]
  },
  {
   "cell_type": "code",
   "execution_count": 148,
   "id": "right-local",
   "metadata": {},
   "outputs": [
    {
     "data": {
      "image/png": "[encoded data removed]",
      "text/plain": [
       "<Figure size 480x320 with 1 Axes>"
      ]
     },
     "metadata": {},
     "output_type": "display_data"
    }
   ],
   "source": [
    "plt.style.use('fivethirtyeight')\n",
    "fig = plt.figure(figsize=(6, 4), dpi=80)\n",
    "ax = fig.add_axes([0,0,1,1])\n",
    "sentiments = ['Positive','Neutral','Negative']\n",
    "no_of_tweets = [len(positive_tweets_list),len(neutral_tweets_list),len(negative_tweets_list)]\n",
    "ax.bar(sentiments,no_of_tweets,color=['green', 'blue', 'red'])\n",
    "plt.xlabel('Sentiments')\n",
    "plt.ylabel('No. of sentiments')\n",
    "plt.show()"
   ]
  },
  {
   "cell_type": "code",
   "execution_count": null,
   "id": "administrative-handling",
   "metadata": {},
   "outputs": [],
   "source": []
  },
  {
   "cell_type": "code",
   "execution_count": 170,
   "id": "beneficial-keeping",
   "metadata": {},
   "outputs": [
    {
     "data": {
      "image/png": "[encoded data removed]",
      "text/plain": [
       "<Figure size 576x576 with 1 Axes>"
      ]
     },
     "metadata": {},
     "output_type": "display_data"
    }
   ],
   "source": [
    "fig = plt.figure(figsize=(8,8))\n",
    "targets = data.groupby('detected').size()\n",
    "targets.plot(kind='pie', subplots=True, figsize=(10, 8), autopct = \"%.2f%%\", colors=['red','skyblue','lime'],textprops={'fontsize': 14})\n",
    "plt.title(\"Pie chart of different classes of tweets\",fontsize=16)\n",
    "plt.ylabel(\"\")\n",
    "plt.legend()\n",
    "plt.show()"
   ]
  },
  {
   "cell_type": "code",
   "execution_count": 174,
   "id": "ruled-royalty",
   "metadata": {},
   "outputs": [
    {
     "data": {
      "image/png": "[encoded data removed]",
      "text/plain": [
       "<Figure size 432x288 with 1 Axes>"
      ]
     },
     "metadata": {},
     "output_type": "display_data"
    }
   ],
   "source": [
    "# Create a circle for the center of the plot\n",
    "my_circle=plt.Circle( (0,0), 0.7, color='white')\n",
    "plt.pie(targets, labels=[\"negative\",\"neutral\",\"positive\"], colors=['red','skyblue','lime'])\n",
    "p=plt.gcf()\n",
    "p.gca().add_artist(my_circle)\n",
    "plt.show()"
   ]
  },
  {
   "cell_type": "code",
   "execution_count": null,
   "id": "regular-raise",
   "metadata": {},
   "outputs": [],
   "source": []
  },
  {
   "cell_type": "code",
   "execution_count": 217,
   "id": "fallen-sterling",
   "metadata": {},
   "outputs": [
    {
     "data": {
      "text/plain": [
       " 0.000000    557565\n",
       " 0.500000    74505 \n",
       " 0.200000    60509 \n",
       "-0.500000    39326 \n",
       " 0.800000    38788 \n",
       "             ...   \n",
       "-0.425714    1     \n",
       "-0.098958    1     \n",
       "-0.027679    1     \n",
       " 0.192460    1     \n",
       " 0.137649    1     \n",
       "Name: sentiment_score, Length: 13503, dtype: int64"
      ]
     },
     "execution_count": 217,
     "metadata": {},
     "output_type": "execute_result"
    }
   ],
   "source": [
    "data.sentiment_score.value_counts()"
   ]
  },
  {
   "cell_type": "code",
   "execution_count": 218,
   "id": "educated-effect",
   "metadata": {},
   "outputs": [],
   "source": [
    "from sklearn.feature_extraction.text import CountVectorizer\n",
    "from nltk.tokenize import RegexpTokenizer\n",
    "token = RegexpTokenizer(r'[a-zA-Z0-9]+')\n",
    "cv = CountVectorizer(stop_words='english',ngram_range = (1,1),tokenizer = token.tokenize)\n",
    "text_counts = cv.fit_transform(data['text'])"
   ]
  },
  {
   "cell_type": "code",
   "execution_count": 242,
   "id": "solar-accused",
   "metadata": {},
   "outputs": [],
   "source": [
    "from sklearn.model_selection import train_test_split\n",
    "X_train, X_test, Y_train, Y_test = train_test_split(text_counts, data['sentiment_score'], test_size=0.25, random_state=5)"
   ]
  },
  {
   "cell_type": "code",
   "execution_count": 243,
   "id": "coated-mission",
   "metadata": {},
   "outputs": [],
   "source": [
    "#https://github.com/sharmaroshan/Twitter-Sentiment-Analysis/blob/master/twitter_sentiment.py"
   ]
  },
  {
   "cell_type": "code",
   "execution_count": 244,
   "id": "suitable-steel",
   "metadata": {},
   "outputs": [
    {
     "data": {
      "text/plain": [
       "text               object\n",
       "actual             object\n",
       "sentiment_score    int32 \n",
       "detected           object\n",
       "dtype: object"
      ]
     },
     "metadata": {},
     "output_type": "display_data"
    }
   ],
   "source": [
    "data['sentiment_score'] = data['sentiment_score'].astype(int)\n",
    "display(data.dtypes)"
   ]
  },
  {
   "cell_type": "code",
   "execution_count": 245,
   "id": "freelance-constitutional",
   "metadata": {},
   "outputs": [
    {
     "name": "stdout",
     "output_type": "stream",
     "text": [
      "(1197562,)\n",
      "(399188,)\n",
      "(1197562,)\n",
      "(399188,)\n"
     ]
    }
   ],
   "source": [
    "print(x_train.shape)\n",
    "print(x_test.shape)\n",
    "print(y_train.shape)\n",
    "print(y_test.shape)"
   ]
  },
  {
   "cell_type": "code",
   "execution_count": 246,
   "id": "careful-tender",
   "metadata": {},
   "outputs": [
    {
     "data": {
      "text/plain": [
       "MultinomialNB()"
      ]
     },
     "execution_count": 246,
     "metadata": {},
     "output_type": "execute_result"
    }
   ],
   "source": [
    "from sklearn.naive_bayes import MultinomialNB\n",
    "MNB = MultinomialNB()\n",
    "MNB.fit(X_train, Y_train)"
   ]
  },
  {
   "cell_type": "code",
   "execution_count": 247,
   "id": "hawaiian-postage",
   "metadata": {},
   "outputs": [],
   "source": [
    "from sklearn import metrics\n",
    "predicted = MNB.predict(X_test)\n",
    "accuracy_score = metrics.accuracy_score(predicted, Y_test)"
   ]
  },
  {
   "cell_type": "code",
   "execution_count": 248,
   "id": "sixth-karaoke",
   "metadata": {},
   "outputs": [
    {
     "name": "stdout",
     "output_type": "stream",
     "text": [
      "98.49%\n"
     ]
    }
   ],
   "source": [
    "print(str('{:04.2f}'.format(accuracy_score*100))+'%')"
   ]
  },
  {
   "cell_type": "code",
   "execution_count": 257,
   "id": "confidential-samba",
   "metadata": {},
   "outputs": [
    {
     "data": {
      "text/plain": [
       "'\\nSplit your data into training and evaluation sets.\\nSelect a model architecture.\\nUse training data to train your model.\\nUse test data to evaluate the performance of your model.\\nUse your trained model on new data to generate predictions, which in this case will be a number between -1.0 and 1.0\\n'"
      ]
     },
     "execution_count": 257,
     "metadata": {},
     "output_type": "execute_result"
    }
   ],
   "source": [
    "'''\n",
    "Split your data into training and evaluation sets.\n",
    "Select a model architecture.\n",
    "Use training data to train your model.\n",
    "Use test data to evaluate the performance of your model.\n",
    "Use your trained model on new data to generate predictions, which in this case will be a number between -1.0 and 1.0\n",
    "'''"
   ]
  },
  {
   "cell_type": "code",
   "execution_count": 4,
   "id": "charitable-tsunami",
   "metadata": {},
   "outputs": [],
   "source": [
    "from sklearn.feature_extraction.text import TfidfVectorizer\n",
    "# Create feature vectors\n",
    "vectorizer = TfidfVectorizer(min_df = 5,max_df = 0.8,sublinear_tf = True,use_idf = True)\n",
    "train_vectors = vectorizer.fit_transform(data['text'][:1000])\n",
    "test_vectors = vectorizer.transform(data['text'][:1000])"
   ]
  },
  {
   "cell_type": "code",
   "execution_count": 15,
   "id": "theoretical-sudan",
   "metadata": {},
   "outputs": [
    {
     "name": "stdout",
     "output_type": "stream",
     "text": [
      "Training time: 0.123994s; Prediction time: 0.078996s\n",
      "positive:  {'precision': 0.9245283018867925, 'recall': 0.8112582781456954, 'f1-score': 0.8641975308641975, 'support': 302}\n",
      "negative:  {'precision': 0.8676923076923077, 'recall': 0.8057142857142857, 'f1-score': 0.8355555555555556, 'support': 350}\n",
      "Accuracy:  85.3 %\n"
     ]
    }
   ],
   "source": [
    "import time\n",
    "from sklearn import svm\n",
    "from sklearn.metrics import classification_report\n",
    "# Perform classification with SVM, kernel=linear\n",
    "classifier_linear = svm.SVC(kernel='linear')\n",
    "t0 = time.time()\n",
    "classifier_linear.fit(train_vectors, data['detected'][:1000])\n",
    "t1 = time.time()\n",
    "prediction_linear = classifier_linear.predict(test_vectors)\n",
    "t2 = time.time()\n",
    "time_linear_train = t1-t0\n",
    "time_linear_predict = t2-t1\n",
    "# results\n",
    "print(\"Training time: %fs; Prediction time: %fs\" % (time_linear_train, time_linear_predict))\n",
    "report = classification_report(data['detected'][:1000], prediction_linear, output_dict=True)\n",
    "print('positive: ', report['positive'])\n",
    "print('negative: ', report['negative'])\n",
    "print('Accuracy: ', report['accuracy']*100,\"%\")"
   ]
  },
  {
   "cell_type": "code",
   "execution_count": 21,
   "id": "cordless-substance",
   "metadata": {},
   "outputs": [
    {
     "name": "stdout",
     "output_type": "stream",
     "text": [
      "job interview in cardiff today wish me luck got about hours sleep ['neutral']\n",
      "\n",
      "your show is whack way worse than whack it s wiggety whack ['negative']\n",
      "\n",
      "i really don t think people choose to be that way but i think he chose not to accept my family s help he might be dead by now ['negative']\n",
      "\n",
      "you re going to kill me but i ve not seen ds i ve been waiting till i can do it in one solid week sitting ['neutral']\n",
      "\n",
      "i think ur right hahaha hrs now ['positive']\n",
      "\n",
      "i hate to see the spartans so sad ['negative']\n",
      "\n",
      "my mind and body are severely protesting this getting up thing had nightmares to boot ['negative']\n",
      "\n",
      "i m goin to follow u since u didn t lol go angels ['positive']\n",
      "\n",
      "i think i want to read some books but the library doesn t have them ['neutral']\n",
      "\n",
      "my nap was interrupted so many times today going out for japanese with the rents again ['positive']\n",
      "\n",
      "kind of longs for the bus that shows up at the end of ghost world right now ugh ['positive']\n",
      "\n",
      "but this is canada canada is weird we re supposed to get snow through wednesday ugh ['neutral']\n",
      "\n",
      "awwh babs you look so sad underneith that shop entrance of yesterday s musik o i like the look of the new transformer movie ['negative']\n",
      "\n",
      "sad that the feet of my macbook just fell off ['negative']\n",
      "\n",
      "i m gonna get up late tomorrow and it s am here i gonna get tipsy by my lonesome that s that s just sad ['negative']\n",
      "\n",
      "i m sweating my forthcoming trip to e if i can t find someone to crash with while i m out there i may be screwed ['neutral']\n",
      "\n",
      "has now gotten somebody to read his tweets but cant get them to make an account ['neutral']\n",
      "\n",
      "omgawd i couldnt handle my cat being in heat all the time d d ['neutral']\n",
      "\n",
      "i hope i can make it to the auburn show but its not looking good for me ['positive']\n",
      "\n",
      "henrie thats people mag haha i couldnt fit it all in i dont think those pictures ever made it in the magazine tho haha ['positive']\n",
      "\n",
      "congrats i totally forgot to submit photos ['neutral']\n",
      "\n",
      "awww good luck paula please don t work too hard but i hope you have fun your new album is gonna be amazing xxx ['positive']\n",
      "\n",
      "now your leaving me gets sad ['negative']\n",
      "\n",
      "i miss you twitter my phone broke now i m using a stupid nokia phone ughhh i miss my advance phone ['neutral']\n",
      "\n",
      "shooting outside my house o not kidding so scared ['negative']\n",
      "\n",
      "tuesday ll start with reflection n then a lecture in stress reducing techniques that sure might become very useful for us accompaniers ['positive']\n",
      "\n",
      "what tragedy and disaster in the news this week ['neutral']\n",
      "\n",
      "yes yes still trying to find a picture that will upload correclty ['neutral']\n",
      "\n",
      "why oh why was the red sox game rained out i was so looking forward to opening day ['negative']\n",
      "\n",
      "i still can t find my keys ['neutral']\n",
      "\n",
      "i know right i dunno what is going on with twitter ['positive']\n",
      "\n",
      "might be getting a sore throat again ['negative']\n",
      "\n",
      "my home town my mammy called all depressd pls explain y a parent let their yr old child walk alone hello its ['positive']\n",
      "\n",
      "i think i need to find better anti depressants i think this paxil wellbutrin combo is losing its efficacy ['positive']\n",
      "\n",
      "restaurant called woodntap has competitive eating tourney round tourney time we place nd ['neutral']\n",
      "\n",
      "is in the bathroom wake up lakin ['neutral']\n",
      "\n",
      "i want tacos and margarhitas telll gay i say hello ['neutral']\n",
      "\n",
      "im lonely keep me company female california ['neutral']\n",
      "\n",
      "bad day at the betfair office ['negative']\n",
      "\n",
      "i miss him can t wait to celebrate the tar heel win this weekend though ['positive']\n",
      "\n",
      "i m really cold i don t want to go to sleep yet but there s nothing to do ['negative']\n",
      "\n",
      "is this it u its officially over me this go round ['negative']\n",
      "\n",
      "monkeys i just found out you my twin and you wont even write back i m heartbroken ['neutral']\n",
      "\n",
      "om aww i know i felt like that yesterday at work ['negative']\n",
      "\n",
      "treaty isn t defined ['neutral']\n",
      "\n",
      "missed brent at praise band no fun to not have the your lead guitarist pout ['negative']\n",
      "\n",
      "poor john this is what happens when you play with fruit and a microwave seriously though have you seen a doctor xxx ['negative']\n",
      "\n",
      "missing my bff watching home and away it reminds me of her and me we it shout out to u courts ['negative']\n",
      "\n",
      "new video card is doa ['positive']\n",
      "\n",
      "feeling lost naked and confused jk sort of no iphone for me ['negative']\n",
      "\n",
      "damn i am so late at filling this appraisal form people have almost sent it i was so occupied in work ['negative']\n",
      "\n",
      "missed brent at praise band no fun to not have your lead guitarist pout ['negative']\n",
      "\n",
      "i think to much on the past i cant change it i deserved so much more then wat i got but why am i still thinking about him gah ['positive']\n",
      "\n",
      "has lost his ring it s no where to be seen ['neutral']\n",
      "\n",
      "ooooooh sealclap see i download shitloads of zip folders off chan i have no internet moneys fuck yeah alicia mikey ['neutral']\n",
      "\n",
      "is still nursing my nile but glad he is feeling better i hate when my baby is sick ['negative']\n",
      "\n",
      "is fucked to go back to ic ['neutral']\n",
      "\n",
      "yoyoyo my internet has been rude tonight it just reconnected and i m about to go to bed ['negative']\n",
      "\n",
      "well i have uni stuff and netball but after netbal if i ve done uni stuff we can ['neutral']\n",
      "\n",
      "me too i is poor ['negative']\n",
      "\n",
      "help me forget th april th july ['neutral']\n",
      "\n",
      "dierks bentley is comin to columbus oh i wanna go so bad ['negative']\n",
      "\n",
      "i have to take my sidekick back ['neutral']\n",
      "\n",
      "congrats i m totally jealous only wish my xm was working ['neutral']\n",
      "\n",
      "gr t my face is very itchy ['positive']\n",
      "\n",
      "poor socks luvvvvv the golden retriever i want one sighhhh ['negative']\n",
      "\n",
      "i just saw that they found that tracy girl in a piece of luggage how fucking terrible ['negative']\n",
      "\n",
      "aaaaand the nausea is back ['neutral']\n",
      "\n",
      "ooh i m excited and not even going be there long love youtube ['positive']\n",
      "\n",
      "spent hour to reach to axis bank only to find out today is holiday for mahavir jayanti contd ['neutral']\n",
      "\n",
      "i agree the jobros dont update theres very often ['positive']\n",
      "\n",
      "it is hilarious and i linked the clip from lj some time ago but when i went back just now it was a dead link ['negative']\n",
      "\n",
      "oooooooo who with im not neither but thats because i need to study ['neutral']\n",
      "\n",
      "haven t tweeted nearly all day posted my website tonight hopefully that goes well night time ['negative']\n",
      "\n",
      "i miss bentley ['neutral']\n",
      "\n",
      "seriously needs to finish these job applications ['neutral']\n",
      "\n",
      "my son vincas is sick so i stay at home just three tense days at work and i am back on holiday with kids ['negative']\n",
      "\n",
      "whinging my client boss don t understand english well rewrote some text unreadable it s written by v good writer reviewed correctly ['positive']\n",
      "\n",
      "i don t want him to ever punch me ['neutral']\n",
      "\n",
      "sooo sick of the snow ughh ['negative']\n",
      "\n",
      "nemesis ['neutral']\n",
      "\n",
      "it doesn t work your fan is upset ['neutral']\n",
      "\n",
      "i would like to apologize for the repeated video games live related tweets i am going to have a stern discussion with koodo soon stern ['neutral']\n",
      "\n",
      "but i cant figure out how to get there back pay for a hotel etc ['neutral']\n",
      "\n",
      "fml so much for seniority bc of technological ineptness i now have to register for classes again ['positive']\n",
      "\n",
      "feels like she slept the day away not looking forward to any more bouts with my gallbladder at least i have pills now for the pain ['positive']\n",
      "\n",
      "but what i really want is my old bass back ['positive']\n",
      "\n",
      "mad tired today callin it in early tonight nighty night twittas ['negative']\n",
      "\n",
      "take it easy and be good to you ['positive']\n",
      "\n",
      "i m afraid i had bad code ['negative']\n",
      "\n",
      "think i m going to bed goodniight i hate this ['negative']\n",
      "\n",
      "i m here friend and i love you ['positive']\n",
      "\n",
      "all this time you didn t notice i was gone just needed db is it ['neutral']\n",
      "\n",
      "is in the bathroom and i have to pee ['neutral']\n",
      "\n",
      "but i wanted a margarita too ['neutral']\n",
      "\n",
      "yup night workouts r the worst but unfortunetly my work schedule only allows me to go at night its tough ['neutral']\n",
      "\n",
      "just called hillsong again they said they couldn t tell me where i was on the waiting list i don t know if it s looking so good ['positive']\n",
      "\n",
      "has g of milky bar left and around ml of coke ['neutral']\n",
      "\n",
      "it stillllll hasn t arrived ['neutral']\n",
      "\n",
      "mraow i feel like dancing but first art school wants to rape me some more ['positive']\n",
      "\n"
     ]
    }
   ],
   "source": [
    "for i in data['text'][200:300]:\n",
    "    review_vector = vectorizer.transform([i]) # vectorizing\n",
    "    print(i,classifier_linear.predict(review_vector))\n",
    "    print()"
   ]
  },
  {
   "cell_type": "code",
   "execution_count": null,
   "id": "reflected-pressure",
   "metadata": {},
   "outputs": [],
   "source": []
  },
  {
   "cell_type": "code",
   "execution_count": null,
   "id": "cultural-knowing",
   "metadata": {},
   "outputs": [],
   "source": []
  },
  {
   "cell_type": "code",
   "execution_count": 214,
   "id": "large-recorder",
   "metadata": {},
   "outputs": [],
   "source": []
  },
  {
   "cell_type": "code",
   "execution_count": null,
   "id": "random-trouble",
   "metadata": {},
   "outputs": [],
   "source": []
  },
  {
   "cell_type": "code",
   "execution_count": null,
   "id": "compatible-racing",
   "metadata": {},
   "outputs": [],
   "source": []
  },
  {
   "cell_type": "code",
   "execution_count": null,
   "id": "mounted-generator",
   "metadata": {},
   "outputs": [],
   "source": []
  }
 ],
 "metadata": {
  "kernelspec": {
   "display_name": "Python 3",
   "language": "python",
   "name": "python3"
  },
  "language_info": {
   "codemirror_mode": {
    "name": "ipython",
    "version": 3
   },
   "file_extension": ".py",
   "mimetype": "text/x-python",
   "name": "python",
   "nbconvert_exporter": "python",
   "pygments_lexer": "ipython3",
   "version": "3.9.2"
  }
 },
 "nbformat": 4,
 "nbformat_minor": 5
}
